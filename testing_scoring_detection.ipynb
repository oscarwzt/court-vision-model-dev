{
 "cells": [
  {
   "cell_type": "code",
   "execution_count": 1,
   "metadata": {},
   "outputs": [
    {
     "name": "stdout",
     "output_type": "stream",
     "text": [
      "Device:  cuda\n"
     ]
    }
   ],
   "source": [
    "from inference_video import predict_video\n",
    "import os\n",
    "from tqdm import tqdm\n",
    "from model import MODEL\n",
    "import torch\n",
    "from ultralytics import YOLO\n",
    "from video_utils import *\n",
    "device = torch.device(\"cuda\" if torch.cuda.is_available() else \"cpu\")\n",
    "device = \"mps\" if torch.backends.mps.is_available() else device\n",
    "\n",
    "print(\"Device: \", device)"
   ]
  },
  {
   "cell_type": "code",
   "execution_count": 2,
   "metadata": {},
   "outputs": [
    {
     "data": {
      "text/plain": [
       "{0: 'basketball', 1: 'hoop', 2: 'person'}"
      ]
     },
     "execution_count": 2,
     "metadata": {},
     "output_type": "execute_result"
    }
   ],
   "source": [
    "model = MODEL(\"weights/best.pt\", device)\n",
    "yolo = YOLO(\"weights/best.pt\")\n",
    "yolo.names"
   ]
  },
  {
   "cell_type": "code",
   "execution_count": 2,
   "metadata": {},
   "outputs": [
    {
     "name": "stderr",
     "output_type": "stream",
     "text": [
      "  6%|▌         | 5/84 [00:06<01:45,  1.33s/it]\n"
     ]
    },
    {
     "ename": "KeyboardInterrupt",
     "evalue": "",
     "output_type": "error",
     "traceback": [
      "\u001b[0;31m---------------------------------------------------------------------------\u001b[0m",
      "\u001b[0;31mKeyboardInterrupt\u001b[0m                         Traceback (most recent call last)",
      "Cell \u001b[0;32mIn[2], line 15\u001b[0m\n\u001b[1;32m     13\u001b[0m \u001b[38;5;28;01mfor\u001b[39;00m made \u001b[38;5;129;01min\u001b[39;00m tqdm(mades):\n\u001b[1;32m     14\u001b[0m     video_path \u001b[38;5;241m=\u001b[39m test_dataset_path \u001b[38;5;241m+\u001b[39m \u001b[38;5;124m'\u001b[39m\u001b[38;5;124m1/\u001b[39m\u001b[38;5;124m'\u001b[39m \u001b[38;5;241m+\u001b[39m made\n\u001b[0;32m---> 15\u001b[0m     pred \u001b[38;5;241m=\u001b[39m \u001b[43mpredict_video\u001b[49m\u001b[43m(\u001b[49m\u001b[43mvideo_path\u001b[49m\u001b[43m,\u001b[49m\u001b[43m \u001b[49m\n\u001b[1;32m     16\u001b[0m \u001b[43m                         \u001b[49m\u001b[38;5;66;43;03m#model = model, \u001b[39;49;00m\n\u001b[1;32m     17\u001b[0m \u001b[43m                         \u001b[49m\u001b[43mbatch_size\u001b[49m\u001b[38;5;241;43m=\u001b[39;49m\u001b[38;5;241;43m32\u001b[39;49m\u001b[43m,\u001b[49m\n\u001b[1;32m     18\u001b[0m \u001b[43m                         \u001b[49m\u001b[43mshow_progress\u001b[49m\u001b[38;5;241;43m=\u001b[39;49m\u001b[38;5;28;43;01mFalse\u001b[39;49;00m\u001b[43m,\u001b[49m\n\u001b[1;32m     19\u001b[0m \u001b[43m                         \u001b[49m\u001b[43mwrite_video\u001b[49m\u001b[38;5;241;43m=\u001b[39;49m\u001b[38;5;28;43;01mFalse\u001b[39;49;00m\u001b[43m)\u001b[49m\n\u001b[1;32m     21\u001b[0m     predictions\u001b[38;5;241m.\u001b[39mappend(pred)\n\u001b[1;32m     23\u001b[0m \u001b[38;5;28;01mfor\u001b[39;00m miss \u001b[38;5;129;01min\u001b[39;00m tqdm(misses):\n",
      "File \u001b[0;32m/mnt/netapp_data/bighomes-active-netapp/zw2688/court-vision-model-dev/inference_video.py:75\u001b[0m, in \u001b[0;36mpredict_video\u001b[0;34m(video_path, model, batch_size, skip_to_sec, end_at_sec, show_progress, write_video, save_output_video_name)\u001b[0m\n\u001b[1;32m     72\u001b[0m         \u001b[38;5;28;01mbreak\u001b[39;00m\n\u001b[1;32m     74\u001b[0m \u001b[38;5;28;01mif\u001b[39;00m frames:\n\u001b[0;32m---> 75\u001b[0m     results \u001b[38;5;241m=\u001b[39m \u001b[43mmodel\u001b[49m\u001b[38;5;241;43m.\u001b[39;49m\u001b[43mpredict\u001b[49m\u001b[43m(\u001b[49m\u001b[43mframes\u001b[49m\u001b[43m)\u001b[49m\n\u001b[1;32m     76\u001b[0m \u001b[38;5;28;01melse\u001b[39;00m:\n\u001b[1;32m     77\u001b[0m     \u001b[38;5;28;01mcontinue\u001b[39;00m\n",
      "File \u001b[0;32m/mnt/netapp_data/bighomes-active-netapp/zw2688/court-vision-model-dev/model.py:43\u001b[0m, in \u001b[0;36mMODEL.predict\u001b[0;34m(self, imgs)\u001b[0m\n\u001b[1;32m     41\u001b[0m     imgs \u001b[38;5;241m=\u001b[39m [imgs]\n\u001b[1;32m     42\u001b[0m \u001b[38;5;28;01mwith\u001b[39;00m torch\u001b[38;5;241m.\u001b[39mno_grad():\n\u001b[0;32m---> 43\u001b[0m     preprocessed_tensor \u001b[38;5;241m=\u001b[39m \u001b[38;5;28;43mself\u001b[39;49m\u001b[38;5;241;43m.\u001b[39;49m\u001b[43mprocessor\u001b[49m\u001b[38;5;241;43m.\u001b[39;49m\u001b[43mpreprocess\u001b[49m\u001b[43m(\u001b[49m\u001b[43mimgs\u001b[49m\u001b[43m)\u001b[49m\n\u001b[1;32m     44\u001b[0m     raw_output \u001b[38;5;241m=\u001b[39m \u001b[38;5;28mself\u001b[39m\u001b[38;5;241m.\u001b[39mmodel(preprocessed_tensor)[\u001b[38;5;241m0\u001b[39m]\n\u001b[1;32m     45\u001b[0m     result \u001b[38;5;241m=\u001b[39m \u001b[38;5;28mself\u001b[39m\u001b[38;5;241m.\u001b[39mprocessor\u001b[38;5;241m.\u001b[39mpostprocess(raw_output, preprocessed_tensor, imgs)\n",
      "File \u001b[0;32m/mnt/netapp_data/bighomes-active-netapp/zw2688/court-vision-model-dev/predictor.py:23\u001b[0m, in \u001b[0;36mBasePredictor.preprocess\u001b[0;34m(self, im)\u001b[0m\n\u001b[1;32m     21\u001b[0m     im \u001b[38;5;241m=\u001b[39m np\u001b[38;5;241m.\u001b[39mstack(\u001b[38;5;28mself\u001b[39m\u001b[38;5;241m.\u001b[39mpre_transform(im))\n\u001b[1;32m     22\u001b[0m     im \u001b[38;5;241m=\u001b[39m im[\u001b[38;5;241m.\u001b[39m\u001b[38;5;241m.\u001b[39m\u001b[38;5;241m.\u001b[39m, ::\u001b[38;5;241m-\u001b[39m\u001b[38;5;241m1\u001b[39m]\u001b[38;5;241m.\u001b[39mtranspose((\u001b[38;5;241m0\u001b[39m, \u001b[38;5;241m3\u001b[39m, \u001b[38;5;241m1\u001b[39m, \u001b[38;5;241m2\u001b[39m))  \u001b[38;5;66;03m# BGR to RGB, BHWC to BCHW, (n, 3, h, w)\u001b[39;00m\n\u001b[0;32m---> 23\u001b[0m     im \u001b[38;5;241m=\u001b[39m \u001b[43mnp\u001b[49m\u001b[38;5;241;43m.\u001b[39;49m\u001b[43mascontiguousarray\u001b[49m\u001b[43m(\u001b[49m\u001b[43mim\u001b[49m\u001b[43m)\u001b[49m  \u001b[38;5;66;03m# contiguous\u001b[39;00m\n\u001b[1;32m     24\u001b[0m     im \u001b[38;5;241m=\u001b[39m torch\u001b[38;5;241m.\u001b[39mfrom_numpy(im)\n\u001b[1;32m     26\u001b[0m im \u001b[38;5;241m=\u001b[39m im\u001b[38;5;241m.\u001b[39mto(\u001b[38;5;28mself\u001b[39m\u001b[38;5;241m.\u001b[39mdevice)\n",
      "\u001b[0;31mKeyboardInterrupt\u001b[0m: "
     ]
    }
   ],
   "source": [
    "test_dataset_path = \"video_test_dataset/\"\n",
    "mades = os.listdir(test_dataset_path + '1')\n",
    "misses = os.listdir(test_dataset_path + '0')\n",
    "# remove \".DS_Store\" file if it exists\n",
    "if \".DS_Store\" in mades:\n",
    "    mades.remove(\".DS_Store\")\n",
    "if \".DS_Store\" in misses:\n",
    "    misses.remove(\".DS_Store\")\n",
    "    \n",
    "actual = [1] * len(mades) + [0] * len(misses)\n",
    "predictions = []\n",
    "\n",
    "for made in tqdm(mades):\n",
    "    video_path = test_dataset_path + '1/' + made\n",
    "    pred = predict_video(video_path, \n",
    "                         #model = model, \n",
    "                         batch_size=32,\n",
    "                         show_progress=False,\n",
    "                         write_video=False)\n",
    "    \n",
    "    predictions.append(pred)\n",
    "    \n",
    "for miss in tqdm(misses):\n",
    "    video_path = test_dataset_path + '0/' + miss\n",
    "    pred = predict_video(video_path, \n",
    "                         # model = model, \n",
    "                         batch_size=32,\n",
    "                         show_progress=False,\n",
    "                         write_video=False)\n",
    "    \n",
    "    predictions.append(pred)\n",
    "    "
   ]
  },
  {
   "cell_type": "code",
   "execution_count": 76,
   "metadata": {},
   "outputs": [],
   "source": [
    "# make confusion matrix\n",
    "from sklearn.metrics import confusion_matrix, classification_report, ConfusionMatrixDisplay"
   ]
  },
  {
   "cell_type": "code",
   "execution_count": 77,
   "metadata": {},
   "outputs": [
    {
     "name": "stdout",
     "output_type": "stream",
     "text": [
      "              precision    recall  f1-score   support\n",
      "\n",
      "        Miss       0.85      0.74      0.79        87\n",
      "        Made       0.76      0.87      0.81        84\n",
      "\n",
      "    accuracy                           0.80       171\n",
      "   macro avg       0.81      0.80      0.80       171\n",
      "weighted avg       0.81      0.80      0.80       171\n",
      "\n"
     ]
    },
    {
     "data": {
      "image/png": "[encoded data removed]",
      "text/plain": [
       "<Figure size 640x480 with 2 Axes>"
      ]
     },
     "metadata": {},
     "output_type": "display_data"
    }
   ],
   "source": [
    "# change any value > 1 to 1 in predictions\n",
    "predictions = [1 if pred > 0 else 0 for pred in predictions]\n",
    "ConfusionMatrixDisplay(confusion_matrix(actual, predictions, normalize='true'), display_labels=['Miss', 'Made']).plot();\n",
    "print(classification_report(actual, predictions, target_names=['Miss', 'Made']))"
   ]
  },
  {
   "cell_type": "code",
   "execution_count": 86,
   "metadata": {},
   "outputs": [],
   "source": [
    "false_positive_vids = [vid for vid, pred, actual_ in zip(misses, predictions[len(mades):], actual[len(mades):]) if pred == 1]\n",
    "false_negative_vids = [vid for vid, pred, actual_ in zip(mades, predictions[:len(mades)], actual[:len(mades)]) if pred == 0]"
   ]
  },
  {
   "cell_type": "markdown",
   "metadata": {},
   "source": [
    "# Example False Positives"
   ]
  },
  {
   "cell_type": "code",
   "execution_count": 6,
   "metadata": {},
   "outputs": [
    {
     "ename": "NameError",
     "evalue": "name 'test_dataset_path' is not defined",
     "output_type": "error",
     "traceback": [
      "\u001b[0;31m---------------------------------------------------------------------------\u001b[0m",
      "\u001b[0;31mNameError\u001b[0m                                 Traceback (most recent call last)",
      "Cell \u001b[0;32mIn[6], line 1\u001b[0m\n\u001b[0;32m----> 1\u001b[0m predict_video(\u001b[43mtest_dataset_path\u001b[49m \u001b[38;5;241m+\u001b[39m \u001b[38;5;124m'\u001b[39m\u001b[38;5;124m0/\u001b[39m\u001b[38;5;124m'\u001b[39m \u001b[38;5;241m+\u001b[39m false_positive_vids[\u001b[38;5;241m0\u001b[39m], \n\u001b[1;32m      2\u001b[0m               model\u001b[38;5;241m=\u001b[39mmodel,\n\u001b[1;32m      3\u001b[0m               write_video\u001b[38;5;241m=\u001b[39m\u001b[38;5;28;01mTrue\u001b[39;00m,\n\u001b[1;32m      4\u001b[0m               )\n\u001b[1;32m      5\u001b[0m display_video(\u001b[38;5;124m'\u001b[39m\u001b[38;5;124moutput.mp4\u001b[39m\u001b[38;5;124m'\u001b[39m)\n",
      "\u001b[0;31mNameError\u001b[0m: name 'test_dataset_path' is not defined"
     ]
    }
   ],
   "source": [
    "predict_video(test_dataset_path + '0/' + false_positive_vids[0], \n",
    "              model=model,\n",
    "              write_video=True,\n",
    "              )\n",
    "display_video('output.mp4')"
   ]
  },
  {
   "cell_type": "code",
   "execution_count": null,
   "metadata": {},
   "outputs": [],
   "source": [
    "print(predict_video(test_dataset_path + '0/' + false_positive_vids[-1], \n",
    "              model=model,\n",
    "              write_video=True,\n",
    "              ))\n",
    "display_video('output.mp4')"
   ]
  },
  {
   "cell_type": "markdown",
   "metadata": {},
   "source": [
    "False positives occur every time a ball goes through the highlighted boxes. Without depth perception, it is impossible to address this problem because we know is the coordinates of the objects"
   ]
  },
  {
   "cell_type": "markdown",
   "metadata": {},
   "source": [
    "# Example False Negatives"
   ]
  },
  {
   "cell_type": "code",
   "execution_count": null,
   "metadata": {},
   "outputs": [],
   "source": [
    "print(predict_video(test_dataset_path + '1/' + false_negative_vids[-1], \n",
    "              model=model,\n",
    "              write_video=True,\n",
    "              ))\n",
    "display_video('output.mp4')"
   ]
  },
  {
   "cell_type": "code",
   "execution_count": null,
   "metadata": {},
   "outputs": [],
   "source": [
    "print(predict_video(test_dataset_path + '1/' + false_negative_vids[6], \n",
    "              model=model,\n",
    "              write_video=True,\n",
    "              ))\n",
    "display_video('output.mp4')"
   ]
  },
  {
   "cell_type": "code",
   "execution_count": null,
   "metadata": {},
   "outputs": [],
   "source": [
    "print(predict_video(test_dataset_path + '1/' + false_negative_vids[7], \n",
    "              model=model,\n",
    "              write_video=True,\n",
    "              ))\n",
    "display_video('output.mp4')"
   ]
  },
  {
   "cell_type": "markdown",
   "metadata": {},
   "source": [
    "In all these examples, the model failed to detect the balls and sometimes the baskets in the videos."
   ]
  },
  {
   "cell_type": "code",
   "execution_count": null,
   "metadata": {},
   "outputs": [],
   "source": []
  }
 ],
 "metadata": {
  "kernelspec": {
   "display_name": "Python 3",
   "language": "python",
   "name": "python3"
  },
  "language_info": {
   "codemirror_mode": {
    "name": "ipython",
    "version": 3
   },
   "file_extension": ".py",
   "mimetype": "text/x-python",
   "name": "python",
   "nbconvert_exporter": "python",
   "pygments_lexer": "ipython3",
   "version": "3.10.14"
  }
 },
 "nbformat": 4,
 "nbformat_minor": 2
}
