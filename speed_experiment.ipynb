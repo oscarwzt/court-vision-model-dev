{
 "cells": [
  {
   "cell_type": "code",
   "execution_count": 2,
   "metadata": {},
   "outputs": [],
   "source": [
    "import torch\n",
    "from torch import nn\n",
    "from ultralytics import YOLO\n",
    "\n",
    "device = torch.device('cuda') if torch.cuda.is_available() else torch.device('cpu')"
   ]
  },
  {
   "cell_type": "code",
   "execution_count": null,
   "metadata": {},
   "outputs": [],
   "source": [
    "model_pt = torch.load(\"weights/detect_large.pt\")['model']\n",
    "random_tensor = torch.rand((1, 3, 640, 640)).to(device)\n",
    "model_pt.to(device)\n",
    "model_pt.eval();"
   ]
  }
 ],
 "metadata": {
  "kernelspec": {
   "display_name": "vision_cuda111",
   "language": "python",
   "name": "vision_cuda111"
  },
  "language_info": {
   "codemirror_mode": {
    "name": "ipython",
    "version": 3
   },
   "file_extension": ".py",
   "mimetype": "text/x-python",
   "name": "python",
   "nbconvert_exporter": "python",
   "pygments_lexer": "ipython3",
   "version": "3.10.13"
  }
 },
 "nbformat": 4,
 "nbformat_minor": 2
}
