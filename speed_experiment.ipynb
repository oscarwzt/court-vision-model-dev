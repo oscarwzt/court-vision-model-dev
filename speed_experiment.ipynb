{
 "cells": [
  {
   "cell_type": "code",
   "execution_count": 1,
   "metadata": {},
   "outputs": [],
   "source": [
    "from roboflow import Roboflow"
   ]
  },
  {
   "cell_type": "code",
   "execution_count": 2,
   "metadata": {},
   "outputs": [
    {
     "name": "stdout",
     "output_type": "stream",
     "text": [
      "loading Roboflow workspace...\n",
      "loading Roboflow project...\n",
      "Dependency ultralytics==8.0.196 is required but found version=8.1.17, to fix: `pip install ultralytics==8.0.196`\n",
      "View the status of your deployment at: https://app.roboflow.com/nyu-figsb/basketballdetection-cki6r/21\n",
      "Share your model with the world at: https://universe.roboflow.com/nyu-figsb/basketballdetection-cki6r/model/21\n"
     ]
    }
   ],
   "source": [
    "rf = Roboflow(api_key=\"nz2w1UFnyFrM7e73WOzh\")\n",
    "project = rf.workspace(\"nyu-figsb\").project(\"basketballdetection-cki6r\")\n",
    "project.version(21).deploy(\"yolov8\", \".\")\n"
   ]
  },
  {
   "cell_type": "code",
   "execution_count": 1,
   "metadata": {},
   "outputs": [],
   "source": [
    "from model import MODEL\n",
    "import time\n",
    "from PIL import Image\n",
    "import torch\n",
    "import cv2\n",
    "from tqdm import tqdm\n",
    "from video_utils import initialize_video_capture\n",
    "from ultralytics import YOLO\n",
    "device = torch.device('cuda:1') if torch.cuda.is_available() else torch.device('cpu')"
   ]
  },
  {
   "cell_type": "code",
   "execution_count": 2,
   "metadata": {},
   "outputs": [],
   "source": [
    "cap,fps, width, height, total_frames = initialize_video_capture(\"full_videos/NM9_fvYsWME.mp4\")\n",
    "ret, orig_img = cap.read()\n",
    "batch_size = 32\n",
    "total_imgs = 2 ** 10\n",
    "num_batches = int(total_imgs / batch_size)\n",
    "\n",
    "model = MODEL(model_path = \"weights/detect_large.pt\",\n",
    "              device = device)\n",
    "_, img = cap.read()"
   ]
  },
  {
   "cell_type": "code",
   "execution_count": 3,
   "metadata": {},
   "outputs": [],
   "source": [
    "yolo = YOLO(\"weights/detect_large.pt\")"
   ]
  },
  {
   "cell_type": "code",
   "execution_count": 6,
   "metadata": {},
   "outputs": [
    {
     "name": "stderr",
     "output_type": "stream",
     "text": [
      "Processing Batches: 100%|██████████| 32/32 [00:09<00:00,  3.44it/s, fps=112.31 fps]\n"
     ]
    }
   ],
   "source": [
    "batch_range = tqdm(range(num_batches), desc='Processing Batches')\n",
    "for i in batch_range:\n",
    "    start_time = time.time()\n",
    "    img_list = []\n",
    "    for _ in range(batch_size):\n",
    "        ret, orig_img = cap.read()\n",
    "        if ret:\n",
    "            img_list.append(orig_img)\n",
    "            \n",
    "    model.predict(img_list)\n",
    "    \n",
    "    elapsed_time = time.time() - start_time  # Elapsed time for batch\n",
    "    fps = batch_size / elapsed_time  # Calculate fps based on batches processed\n",
    "    batch_range.set_postfix(fps=f\"{fps:.2f} fps\", refresh=True)  "
   ]
  },
  {
   "cell_type": "code",
   "execution_count": 5,
   "metadata": {},
   "outputs": [
    {
     "name": "stderr",
     "output_type": "stream",
     "text": [
      "Processing Batches: 100%|██████████| 32/32 [00:20<00:00,  1.60it/s, fps=62.72 fps]\n"
     ]
    }
   ],
   "source": [
    "batch_range = tqdm(range(num_batches), desc='Processing Batches')\n",
    "for i in batch_range:\n",
    "    start_time = time.time()\n",
    "    img_list = []\n",
    "    for _ in range(batch_size):\n",
    "        ret, orig_img = cap.read()\n",
    "        if ret:\n",
    "            img_list.append(orig_img)\n",
    "            \n",
    "    ultralytics_output = yolo(img_list, device=1, verbose = False)\n",
    "    \n",
    "    elapsed_time = time.time() - start_time  # Elapsed time for batch\n",
    "    fps = batch_size / elapsed_time  # Calculate fps based on batches processed\n",
    "    batch_range.set_postfix(fps=f\"{fps:.2f} fps\", refresh=True)  "
   ]
  }
 ],
 "metadata": {
  "kernelspec": {
   "display_name": "vision_cuda111",
   "language": "python",
   "name": "vision_cuda111"
  },
  "language_info": {
   "codemirror_mode": {
    "name": "ipython",
    "version": 3
   },
   "file_extension": ".py",
   "mimetype": "text/x-python",
   "name": "python",
   "nbconvert_exporter": "python",
   "pygments_lexer": "ipython3",
   "version": "3.10.13"
  }
 },
 "nbformat": 4,
 "nbformat_minor": 2
}
