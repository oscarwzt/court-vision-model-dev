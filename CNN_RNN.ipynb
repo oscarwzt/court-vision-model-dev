{
 "cells": [
  {
   "cell_type": "code",
   "execution_count": 13,
   "metadata": {},
   "outputs": [],
   "source": [
    "import torch\n",
    "import torch.nn as nn\n",
    "import torch.nn.functional as F\n",
    "import torch.optim as optim\n",
    "import numpy as np\n",
    "from torchvision import models\n",
    "from torch.utils.data import DataLoader, Dataset, random_split\n",
    "from torchvision import transforms\n",
    "import cv2\n",
    "import os\n",
    "from  training_utils import *\n",
    "\n",
    "device = torch.device(\"cuda:0\" if torch.cuda.is_available() else \"cpu\")"
   ]
  },
  {
   "cell_type": "code",
   "execution_count": 14,
   "metadata": {},
   "outputs": [
    {
     "name": "stdout",
     "output_type": "stream",
     "text": [
      "Probability of miss: 49.46%\n"
     ]
    }
   ],
   "source": [
    "class RNN_Model(nn.Module):\n",
    "    def __init__(self, num_classes, hidden_size, num_layers):\n",
    "        super(RNN_Model, self).__init__()\n",
    "        # Load the pretrained ResNet-18 model\n",
    "        self.resnet = models.resnet18(weights = models.ResNet18_Weights.DEFAULT)\n",
    "        self.resnet = nn.Sequential(*(list(self.resnet.children())[:-1]))\n",
    "        \n",
    "        # RNN (LSTM) layer\n",
    "        self.lstm = nn.LSTM(input_size=512, hidden_size=hidden_size,\n",
    "                            num_layers=num_layers, batch_first=True)\n",
    "        \n",
    "        # Classification layer\n",
    "        self.fc = nn.Linear(hidden_size, num_classes)\n",
    "\n",
    "    def forward(self, x):\n",
    "        # x shape: [batch, time, channels, height, width]\n",
    "        batch_size, timesteps, C, H, W = x.size()\n",
    "        \n",
    "        # Flatten dimensions for ResNet\n",
    "        x = x.view(batch_size * timesteps, C, H, W)\n",
    "        \n",
    "        # Feature extraction through ResNet\n",
    "        with torch.no_grad():\n",
    "            features = self.resnet(x)\n",
    "        \n",
    "        # Reshape for LSTM\n",
    "        features = features.view(batch_size, timesteps, -1)\n",
    "        \n",
    "        # Sequence processing through LSTM\n",
    "        lstm_out, _ = self.lstm(features)\n",
    "        \n",
    "        # Classification\n",
    "        out = self.fc(lstm_out[:, -1, :])\n",
    "        return out\n",
    "    \n",
    "def preprocess_frame(frame, size=(224, 224)):\n",
    "    transform = transforms.Compose([\n",
    "        transforms.ToPILImage(),\n",
    "        transforms.Resize(size),\n",
    "        transforms.ToTensor(),\n",
    "    ])\n",
    "    return transform(frame)\n",
    "\n",
    "# Function to load and preprocess video\n",
    "def load_video(video_path, max_frames=16):\n",
    "    cap = cv2.VideoCapture(video_path)\n",
    "    frames = []\n",
    "    try:\n",
    "        while True:\n",
    "            ret, frame = cap.read()\n",
    "            if not ret or len(frames) == max_frames:\n",
    "                break\n",
    "            frame = preprocess_frame(frame)\n",
    "            frames.append(frame)\n",
    "    finally:\n",
    "        cap.release()\n",
    "    \n",
    "    # Stack frames and add batch dimension\n",
    "    frames_tensor = torch.stack(frames)\n",
    "    frames_tensor = frames_tensor.unsqueeze(0)  # Add batch dimension\n",
    "    return frames_tensor\n",
    "\n",
    "# Hyperparameters\n",
    "num_classes = 1 # Define the number of classes\n",
    "hidden_size = 256 # LSTM hidden size\n",
    "num_layers = 2 # Number of LSTM layers\n",
    "\n",
    "# Model instance\n",
    "model = RNN_Model(num_classes, hidden_size, num_layers)\n",
    "model.to(device)\n",
    "\n",
    "video_path = \"video_test_dataset/0/miss_4.mp4\"\n",
    "video_tensor = load_video(video_path).to(device)\n",
    "\n",
    "with torch.no_grad():\n",
    "    outputs = model(video_tensor)\n",
    "    prob = torch.sigmoid(outputs).item()\n",
    "    \n",
    "print(\"Probability of miss: {:.2f}%\".format(prob * 100))"
   ]
  },
  {
   "cell_type": "code",
   "execution_count": 4,
   "metadata": {},
   "outputs": [],
   "source": [
    "class VideoDataset(Dataset):\n",
    "    def __init__(self, directory, max_frames=16, transform=None):\n",
    "        self.directory = directory\n",
    "        self.max_frames = max_frames\n",
    "        self.transform = transform\n",
    "        self.classes = ['0', '1']\n",
    "        self.data = []\n",
    "        \n",
    "        # Load data\n",
    "        for label in self.classes:\n",
    "            class_dir = os.path.join(directory, label)\n",
    "            for video in os.listdir(class_dir):\n",
    "                self.data.append((os.path.join(class_dir, video), int(label)))\n",
    "    \n",
    "    def __len__(self):\n",
    "        return len(self.data)\n",
    "    \n",
    "    def __getitem__(self, idx):\n",
    "        video_path, label = self.data[idx]\n",
    "        cap = cv2.VideoCapture(video_path)\n",
    "        frames = []\n",
    "        try:\n",
    "            while True:\n",
    "                ret, frame = cap.read()\n",
    "                if not ret or len(frames) == self.max_frames:\n",
    "                    break\n",
    "                if self.transform:\n",
    "                    frame = self.transform(frame)\n",
    "                frames.append(frame)\n",
    "        finally:\n",
    "            cap.release()\n",
    "        \n",
    "        frames_tensor = torch.stack(frames)\n",
    "        return frames_tensor, label"
   ]
  },
  {
   "cell_type": "code",
   "execution_count": 9,
   "metadata": {},
   "outputs": [],
   "source": [
    "dataset_dir = \"cropped_video_dataset\"\n",
    "transform = transforms.Compose([\n",
    "    transforms.ToPILImage(),\n",
    "    transforms.Resize((224, 224)),\n",
    "    transforms.ToTensor(),\n",
    "    transforms.Normalize(mean=[0.485, 0.456, 0.406], std=[0.229, 0.224, 0.225]),\n",
    "])\n",
    "\n",
    "video_dataset = VideoDataset(dataset_dir, transform=transform)"
   ]
  },
  {
   "cell_type": "code",
   "execution_count": 15,
   "metadata": {},
   "outputs": [],
   "source": [
    "# Define batch size\n",
    "batch_size = 16\n",
    "\n",
    "# Split dataset into train and test sets\n",
    "train_size = int(0.8 * len(video_dataset))\n",
    "test_size = len(video_dataset) - train_size\n",
    "train_dataset, test_dataset = random_split(video_dataset, [train_size, test_size])\n",
    "\n",
    "# Create train loader\n",
    "train_loader = DataLoader(train_dataset, batch_size=batch_size, shuffle=True)\n",
    "\n",
    "# Create test loader\n",
    "test_loader = DataLoader(test_dataset, batch_size=batch_size, shuffle=True)\n",
    "\n",
    "optimizer = optim.Adam(model.parameters(), lr = 0.001)\n",
    "criterion = nn.BCEWithLogitsLoss()"
   ]
  },
  {
   "cell_type": "code",
   "execution_count": 23,
   "metadata": {},
   "outputs": [
    {
     "data": {
      "text/plain": [
       "(tensor(0.0494, device='cuda:0'), 0.7777777777777778)"
      ]
     },
     "execution_count": 23,
     "metadata": {},
     "output_type": "execute_result"
    }
   ],
   "source": [
    "train_epoch(model = model,\n",
    "            optimizer = optimizer,\n",
    "            criterion = criterion,\n",
    "            train_loader = train_loader,\n",
    "            device = device,\n",
    "            )\n",
    "\n",
    "test(model = model, \n",
    "     criterion = criterion,\n",
    "     valid_loader = test_loader,\n",
    "     device = device)\n"
   ]
  },
  {
   "cell_type": "code",
   "execution_count": 24,
   "metadata": {},
   "outputs": [
    {
     "name": "stdout",
     "output_type": "stream",
     "text": [
      "Epoch 1, Accuracy: 77.77777777777777%\n",
      "Epoch 2, Accuracy: 77.77777777777777%\n",
      "Epoch 3, Accuracy: 66.66666666666667%\n",
      "Epoch 4, Accuracy: 66.66666666666667%\n",
      "Epoch 5, Accuracy: 66.66666666666667%\n",
      "Epoch 6, Accuracy: 66.66666666666667%\n",
      "Epoch 7, Accuracy: 66.66666666666667%\n",
      "Epoch 8, Accuracy: 66.66666666666667%\n",
      "Epoch 9, Accuracy: 66.66666666666667%\n",
      "Epoch 10, Accuracy: 66.66666666666667%\n"
     ]
    }
   ],
   "source": [
    "num_epochs = 10\n",
    "model = RNN_Model(num_classes, hidden_size, num_layers)\n",
    "for epoch in range(num_epochs):\n",
    "    model.train()\n",
    "    running_loss = 0.0\n",
    "\n",
    "    for i, (inputs, labels) in enumerate(train_loader):\n",
    "        # Convert labels to the correct shape\n",
    "        labels = labels.float().unsqueeze(1)  # Reshape for BCEWithLogitsLoss\n",
    "\n",
    "        optimizer.zero_grad()\n",
    "\n",
    "        # Forward pass\n",
    "        outputs = model(inputs)\n",
    "        loss = criterion(outputs, labels)\n",
    "\n",
    "        # Backward pass and optimize\n",
    "        loss.backward()\n",
    "        optimizer.step()\n",
    "\n",
    "        running_loss += loss.item()\n",
    "        if i % 10 == 9:\n",
    "            print(f'Epoch {epoch + 1}, Batch {i + 1}, Loss: {running_loss / 10:.4f}')\n",
    "            running_loss = 0.0\n",
    "\n",
    "    # Validation step after each epoch\n",
    "    model.eval()\n",
    "    correct = 0\n",
    "    total = 0\n",
    "\n",
    "    with torch.no_grad():\n",
    "        for inputs, labels in test_loader:\n",
    "            outputs = model(inputs)\n",
    "            predicted = torch.sigmoid(outputs) >= 0.5  # Apply sigmoid and threshold\n",
    "            total += labels.size(0)\n",
    "            correct += (predicted.flatten() == labels).sum().item()\n",
    "\n",
    "    print(f'Epoch {epoch + 1}, Accuracy: {100 * correct / total}%')\n",
    "\n",
    "torch.save(model.state_dict(), 'video_classification_model.pth')\n"
   ]
  },
  {
   "cell_type": "code",
   "execution_count": 26,
   "metadata": {},
   "outputs": [
    {
     "data": {
      "text/plain": [
       "9"
      ]
     },
     "execution_count": 26,
     "metadata": {},
     "output_type": "execute_result"
    }
   ],
   "source": [
    "len(test_loader.dataset)"
   ]
  },
  {
   "cell_type": "code",
   "execution_count": 28,
   "metadata": {},
   "outputs": [
    {
     "data": {
      "text/plain": [
       "41"
      ]
     },
     "execution_count": 28,
     "metadata": {},
     "output_type": "execute_result"
    }
   ],
   "source": [
    "len(video_dataset)"
   ]
  },
  {
   "cell_type": "code",
   "execution_count": null,
   "metadata": {},
   "outputs": [],
   "source": []
  }
 ],
 "metadata": {
  "kernelspec": {
   "display_name": "vision",
   "language": "python",
   "name": "vision"
  },
  "language_info": {
   "codemirror_mode": {
    "name": "ipython",
    "version": 3
   },
   "file_extension": ".py",
   "mimetype": "text/x-python",
   "name": "python",
   "nbconvert_exporter": "python",
   "pygments_lexer": "ipython3",
   "version": "3.9.7"
  }
 },
 "nbformat": 4,
 "nbformat_minor": 2
}
