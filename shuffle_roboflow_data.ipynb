{
 "cells": [
  {
   "cell_type": "code",
   "execution_count": 2,
   "metadata": {},
   "outputs": [],
   "source": [
    "import os\n",
    "import shutil\n",
    "from sklearn.model_selection import train_test_split"
   ]
  },
  {
   "cell_type": "code",
   "execution_count": 4,
   "metadata": {},
   "outputs": [],
   "source": [
    "root_dir = \"basketballDetection-27\"\n",
    "train_images_dir = os.path.join(root_dir, \"train\")\n",
    "test_images_dir = os.path.join(root_dir, \"test\")\n",
    "valid_images_dir = os.path.join(root_dir, \"valid\")\n",
    "\n",
    "all_images = os.listdir(train_images_dir + \"/images\")\n",
    "train_img, valid_imgs = train_test_split(all_images, test_size=0.3, random_state=42)\n",
    "valid_imgs, test_imgs = train_test_split(valid_imgs, test_size=0.333, random_state=42)\n",
    "\n",
    "for img in valid_imgs:\n",
    "    os.makedirs(valid_images_dir + \"/images\", exist_ok=True)\n",
    "    os.makedirs(valid_images_dir + \"/labels\", exist_ok=True)\n",
    "    shutil.move(train_images_dir + \"/images/\" + img, valid_images_dir + \"/images/\" + img)\n",
    "    shutil.move(train_images_dir + \"/labels/\" + img[:-4] + \".txt\", valid_images_dir + \"/labels/\" + img[:-4] + \".txt\")"
   ]
  },
  {
   "cell_type": "code",
   "execution_count": 5,
   "metadata": {},
   "outputs": [],
   "source": [
    "for img in test_imgs:\n",
    "    os.makedirs(test_images_dir + \"/images\", exist_ok=True)\n",
    "    os.makedirs(test_images_dir + \"/labels\", exist_ok=True)\n",
    "    shutil.move(train_images_dir + \"/images/\" + img, test_images_dir + \"/images/\" + img)\n",
    "    shutil.move(train_images_dir + \"/labels/\" + img[:-4] + \".txt\", test_images_dir + \"/labels/\" + img[:-4] + \".txt\")"
   ]
  },
  {
   "cell_type": "code",
   "execution_count": 6,
   "metadata": {},
   "outputs": [
    {
     "name": "stdout",
     "output_type": "stream",
     "text": [
      "Downloading https://github.com/ultralytics/assets/releases/download/v0.0.0/yolov8n.pt to 'yolov8n.pt'...\n",
      "100%|███████████████████████████████████████| 6.23M/6.23M [00:00<00:00, 254MB/s]\n",
      "New https://pypi.org/project/ultralytics/8.0.231 available 😃 Update with 'pip install -U ultralytics'\n",
      "Ultralytics YOLOv8.0.228 🚀 Python-3.10.13 torch-2.1.1+cu121 CUDA:0 (Quadro RTX 8000, 45548MiB)\n",
      "\u001b[34m\u001b[1mengine/trainer: \u001b[0mtask=detect, mode=train, model=yolov8n.pt, data=basketballDetection-27/data.yaml, epochs=1, time=None, patience=50, batch=16, imgsz=640, save=True, save_period=-1, cache=False, device=None, workers=8, project=None, name=train10, exist_ok=False, pretrained=True, optimizer=auto, verbose=True, seed=0, deterministic=True, single_cls=False, rect=False, cos_lr=False, close_mosaic=10, resume=False, amp=True, fraction=1.0, profile=False, freeze=None, overlap_mask=True, mask_ratio=4, dropout=0.0, val=True, split=val, save_json=False, save_hybrid=False, conf=None, iou=0.7, max_det=300, half=False, dnn=False, plots=True, source=None, vid_stride=1, stream_buffer=False, visualize=False, augment=False, agnostic_nms=False, classes=None, retina_masks=False, show=False, save_frames=False, save_txt=False, save_conf=False, save_crop=False, show_labels=True, show_conf=True, show_boxes=True, line_width=None, format=torchscript, keras=False, optimize=False, int8=False, dynamic=False, simplify=False, opset=None, workspace=4, nms=False, lr0=0.01, lrf=0.01, momentum=0.937, weight_decay=0.0005, warmup_epochs=3.0, warmup_momentum=0.8, warmup_bias_lr=0.1, box=7.5, cls=0.5, dfl=1.5, pose=12.0, kobj=1.0, label_smoothing=0.0, nbs=64, hsv_h=0.015, hsv_s=0.7, hsv_v=0.4, degrees=0.0, translate=0.1, scale=0.5, shear=0.0, perspective=0.0, flipud=0.0, fliplr=0.5, mosaic=1.0, mixup=0.0, copy_paste=0.0, cfg=None, tracker=botsort.yaml, save_dir=runs/detect/train10\n",
      "^C\n",
      "Traceback (most recent call last):\n",
      "  File \"/scratch/zw2688/conda_env/yolonas/bin/yolo\", line 8, in <module>\n",
      "    sys.exit(entrypoint())\n",
      "  File \"/scratch/zw2688/conda_env/yolonas/lib/python3.10/site-packages/ultralytics/cfg/__init__.py\", line 448, in entrypoint\n",
      "    getattr(model, mode)(**overrides)  # default args from model\n",
      "  File \"/scratch/zw2688/conda_env/yolonas/lib/python3.10/site-packages/ultralytics/engine/model.py\", line 333, in train\n",
      "    self.trainer = (trainer or self._smart_load('trainer'))(overrides=args, _callbacks=self.callbacks)\n",
      "  File \"/scratch/zw2688/conda_env/yolonas/lib/python3.10/site-packages/ultralytics/engine/trainer.py\", line 142, in __init__\n",
      "    callbacks.add_integration_callbacks(self)\n",
      "  File \"/scratch/zw2688/conda_env/yolonas/lib/python3.10/site-packages/ultralytics/utils/callbacks/base.py\", line 209, in add_integration_callbacks\n",
      "    from .raytune import callbacks as tune_cb\n",
      "  File \"/scratch/zw2688/conda_env/yolonas/lib/python3.10/site-packages/ultralytics/utils/callbacks/raytune.py\", line 8, in <module>\n",
      "    from ray import tune\n",
      "  File \"/scratch/zw2688/conda_env/yolonas/lib/python3.10/site-packages/ray/tune/__init__.py\", line 15, in <module>\n",
      "    from ray.tune.tune import run_experiments, run\n",
      "  File \"/scratch/zw2688/conda_env/yolonas/lib/python3.10/site-packages/ray/tune/tune.py\", line 34, in <module>\n",
      "    from ray.tune.experimental.output import (\n",
      "  File \"/scratch/zw2688/conda_env/yolonas/lib/python3.10/site-packages/ray/tune/experimental/output.py\", line 34, in <module>\n",
      "    import rich.layout\n",
      "  File \"/scratch/zw2688/conda_env/yolonas/lib/python3.10/site-packages/rich/layout.py\", line 18, in <module>\n",
      "    from .align import Align\n",
      "  File \"/scratch/zw2688/conda_env/yolonas/lib/python3.10/site-packages/rich/align.py\", line 10, in <module>\n",
      "    from .constrain import Constrain\n",
      "  File \"/scratch/zw2688/conda_env/yolonas/lib/python3.10/site-packages/rich/constrain.py\", line 3, in <module>\n",
      "    from .jupyter import JupyterMixin\n",
      "  File \"/scratch/zw2688/conda_env/yolonas/lib/python3.10/site-packages/rich/jupyter.py\", line 7, in <module>\n",
      "    from .segment import Segment\n",
      "  File \"/scratch/zw2688/conda_env/yolonas/lib/python3.10/site-packages/rich/segment.py\", line 26, in <module>\n",
      "    from .repr import Result, rich_repr\n",
      "  File \"<frozen importlib._bootstrap>\", line 1027, in _find_and_load\n",
      "  File \"<frozen importlib._bootstrap>\", line 1006, in _find_and_load_unlocked\n",
      "  File \"<frozen importlib._bootstrap>\", line 688, in _load_unlocked\n",
      "  File \"<frozen importlib._bootstrap_external>\", line 879, in exec_module\n",
      "  File \"<frozen importlib._bootstrap_external>\", line 975, in get_code\n",
      "  File \"<frozen importlib._bootstrap_external>\", line 1074, in get_data\n",
      "KeyboardInterrupt\n"
     ]
    }
   ],
   "source": [
    "!yolo detect train data=basketballDetection-27/data.yaml model=yolov8n.pt epochs=1"
   ]
  },
  {
   "cell_type": "code",
   "execution_count": null,
   "metadata": {},
   "outputs": [],
   "source": []
  }
 ],
 "metadata": {
  "kernelspec": {
   "display_name": "vision",
   "language": "python",
   "name": "vision"
  },
  "language_info": {
   "codemirror_mode": {
    "name": "ipython",
    "version": 3
   },
   "file_extension": ".py",
   "mimetype": "text/x-python",
   "name": "python",
   "nbconvert_exporter": "python",
   "pygments_lexer": "ipython3",
   "version": "3.10.13"
  }
 },
 "nbformat": 4,
 "nbformat_minor": 2
}
