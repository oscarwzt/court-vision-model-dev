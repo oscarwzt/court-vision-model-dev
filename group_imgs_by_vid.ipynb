{
 "cells": [
  {
   "cell_type": "code",
   "execution_count": 1,
   "metadata": {},
   "outputs": [],
   "source": [
    "import os\n",
    "import shutil"
   ]
  },
  {
   "cell_type": "code",
   "execution_count": 3,
   "metadata": {},
   "outputs": [
    {
     "name": "stdout",
     "output_type": "stream",
     "text": [
      "korean_organized\n",
      "korean_outdoor\n",
      "group_2\n",
      "group_3\n",
      "philipine_night\n",
      "group_1\n",
      "mima\n"
     ]
    }
   ],
   "source": [
    "txt_files_dir = \"images_group_by_vid_txt_files\"\n",
    "txt_files = os.listdir(txt_files_dir)\n",
    "new_root_dir = \"detection_dataset_groupby_env\"\n",
    "for txt_file in txt_files:\n",
    "    new_dir_name = txt_file.split(\".\")[0]\n",
    "    print(new_dir_name)\n",
    "    new_dir = os.path.join(new_root_dir, new_dir_name)\n",
    "    os.makedirs(new_dir, exist_ok=True)\n",
    "    with open(os.path.join(txt_files_dir, txt_file), \"r\") as f:\n",
    "        lines = f.readlines()\n",
    "        for line in lines:\n",
    "            line = line.strip()\n",
    "            if os.path.exists(line):\n",
    "                shutil.move(line, new_dir)\n"
   ]
  },
  {
   "cell_type": "code",
   "execution_count": null,
   "metadata": {},
   "outputs": [],
   "source": []
  }
 ],
 "metadata": {
  "kernelspec": {
   "display_name": "vision",
   "language": "python",
   "name": "vision"
  },
  "language_info": {
   "codemirror_mode": {
    "name": "ipython",
    "version": 3
   },
   "file_extension": ".py",
   "mimetype": "text/x-python",
   "name": "python",
   "nbconvert_exporter": "python",
   "pygments_lexer": "ipython3",
   "version": "3.10.13"
  }
 },
 "nbformat": 4,
 "nbformat_minor": 2
}
