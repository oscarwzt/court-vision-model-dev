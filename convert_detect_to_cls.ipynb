{
 "cells": [
  {
   "cell_type": "code",
   "execution_count": 2,
   "metadata": {},
   "outputs": [],
   "source": [
    "from typing import List, Tuple, Dict\n",
    "import cv2\n",
    "import numpy as np\n",
    "import os\n",
    "from roboflow import Roboflow\n",
    "from tqdm import tqdm\n",
    "import random\n",
    "import matplotlib.pyplot as plt \n",
    "from PIL import Image\n",
    "\n",
    "def convert_to_pixels(box: List[float], image_width: int, image_height: int) -> Tuple[int, int, int, int]:\n",
    "    x_center, y_center, width, height = box\n",
    "    x_center *= image_width\n",
    "    y_center *= image_height\n",
    "    width *= image_width\n",
    "    height *= image_height\n",
    "    \n",
    "    x1 = int(x_center - width / 2)\n",
    "    y1 = int(y_center - height / 2)\n",
    "    x2 = int(x_center + width / 2)\n",
    "    y2 = int(y_center + height / 2)\n",
    "    \n",
    "    return x1, y1, x2, y2\n",
    "\n",
    "def crop_and_save(image_path, bbox_coords, output_dir, class_id):\n",
    "    \"\"\"\n",
    "    Crop the image to the bounding box and save it to the specified output directory.\n",
    "    \"\"\"\n",
    "    with Image.open(image_path) as img:\n",
    "        cropped_img = img.crop(bbox_coords)\n",
    "        output_path = os.path.join(output_dir, f\"{class_id}\", os.path.basename(image_path))\n",
    "        cropped_img.save(output_path)\n",
    "\n",
    "def create_classification_dataset(base_dir, output_dir):\n",
    "    images_dir = os.path.join(base_dir, \"images\")\n",
    "    labels_dir = os.path.join(base_dir, \"labels\")\n",
    "    os.makedirs(output_dir, exist_ok=True)\n",
    "    for i in range(2):  # Number of classes\n",
    "        os.makedirs(os.path.join(output_dir, f\"{i}\"), exist_ok=True)\n",
    "\n",
    "    # Process each label file\n",
    "    for label_file in tqdm(os.listdir(labels_dir)):\n",
    "        with open(os.path.join(labels_dir, label_file), 'r') as file:\n",
    "            lines = file.readlines()\n",
    "\n",
    "        if not lines:\n",
    "            continue\n",
    "\n",
    "        # Check for class \"1\" first, then fall back to class \"0\"\n",
    "        selected_line = None\n",
    "        for line in lines:\n",
    "            class_id, _ = line.strip().split(' ', 1)\n",
    "            if class_id == '1':\n",
    "                selected_line = line\n",
    "                break\n",
    "            elif class_id == '0' and selected_line is None:\n",
    "                selected_line = line\n",
    "\n",
    "        if selected_line is None:\n",
    "            continue  # Skip if no suitable class found\n",
    "\n",
    "        class_id, coords = selected_line.strip().split(' ', 1)\n",
    "        box = [float(coord) for coord in coords.split()]\n",
    "        image_file = label_file.replace('.txt', '.jpg')\n",
    "        image_path = os.path.join(images_dir, image_file)\n",
    "\n",
    "        if not os.path.exists(image_path):\n",
    "            continue\n",
    "\n",
    "        img = Image.open(image_path)\n",
    "        bbox_coords = convert_to_pixels(box, img.width, img.height)\n",
    "        crop_and_save(image_path, bbox_coords, output_dir, class_id)\n",
    "\n",
    "\n"
   ]
  },
  {
   "cell_type": "code",
   "execution_count": 3,
   "metadata": {},
   "outputs": [
    {
     "name": "stdout",
     "output_type": "stream",
     "text": [
      "['detection_dataset_groupby_env/other', 'detection_dataset_groupby_env/mima', 'detection_dataset_groupby_env/group_3', 'detection_dataset_groupby_env/philipine_night', 'detection_dataset_groupby_env/group_2', 'detection_dataset_groupby_env/group_1', 'detection_dataset_groupby_env/korean_outdoor', 'detection_dataset_groupby_env/korean_organized', 'detection_dataset_groupby_env/group_4']\n"
     ]
    },
    {
     "name": "stderr",
     "output_type": "stream",
     "text": [
      "100%|██████████| 1373/1373 [00:05<00:00, 257.39it/s]\n",
      "100%|██████████| 563/563 [00:11<00:00, 51.15it/s]\n",
      "100%|██████████| 240/240 [00:06<00:00, 39.42it/s]\n",
      "100%|██████████| 63/63 [00:00<00:00, 311.48it/s]\n",
      "100%|██████████| 73/73 [00:02<00:00, 33.20it/s]\n",
      "100%|██████████| 31/31 [00:00<00:00, 227.65it/s]\n",
      "100%|██████████| 236/236 [00:06<00:00, 38.64it/s]\n",
      "100%|██████████| 128/128 [00:03<00:00, 42.03it/s]\n",
      "100%|██████████| 7/7 [00:00<00:00, 563.29it/s]\n"
     ]
    }
   ],
   "source": [
    "# Directories\n",
    "base_dir = \"detection_dataset_groupby_env\"\n",
    "output_dir = \"classification_dataset_groupby_env\"\n",
    "all_env_dirs = [os.path.join(base_dir, env_dir) for env_dir in os.listdir(base_dir)]\n",
    "print(all_env_dirs)\n",
    "\n",
    "for env_dir in all_env_dirs:\n",
    "    output_dir_env = os.path.join(output_dir, env_dir.split(\"/\")[-1])\n",
    "    create_classification_dataset(env_dir, output_dir_env)"
   ]
  },
  {
   "cell_type": "code",
   "execution_count": 2,
   "metadata": {},
   "outputs": [
    {
     "name": "stdout",
     "output_type": "stream",
     "text": [
      "classification_dataset/0\n"
     ]
    }
   ],
   "source": [
    "def find_small_images(directory, min_width, min_height = None):\n",
    "    print(directory)\n",
    "    min_height = min_width if not min_height else min_height\n",
    "    small_images_info = []\n",
    "    for dirpath, dirnames, filenames in os.walk(directory):\n",
    "        for filename in filenames:\n",
    "            # Skip system files like .DS_Store\n",
    "            if filename.startswith('.'):\n",
    "                continue\n",
    "            try:\n",
    "                file_path = os.path.join(dirpath, filename)\n",
    "                with Image.open(file_path) as img:\n",
    "                    w, h = img.size\n",
    "                    if w * h < min_width * min_height:\n",
    "                        small_images_info.append((file_path, img.size))\n",
    "            except Exception as e:\n",
    "                print(f\"Error processing image {filename}: {e}\")\n",
    "    return small_images_info\n",
    "\n",
    "small_images_info = find_small_images(output_dir + \"/0\", 17)\n"
   ]
  },
  {
   "cell_type": "code",
   "execution_count": 4,
   "metadata": {},
   "outputs": [],
   "source": [
    "for img in small_images_info:\n",
    "    os.remove(img[0])"
   ]
  },
  {
   "cell_type": "markdown",
   "metadata": {},
   "source": [
    "# Create new cls dataset with new env\n"
   ]
  },
  {
   "cell_type": "code",
   "execution_count": 76,
   "metadata": {},
   "outputs": [],
   "source": [
    "# import packages to split dataset into train and test and val\n",
    "from sklearn.model_selection import train_test_split\n",
    "import os\n",
    "import numpy as np\n",
    "from tqdm import tqdm   \n",
    "import shutil"
   ]
  },
  {
   "cell_type": "code",
   "execution_count": 87,
   "metadata": {},
   "outputs": [
    {
     "name": "stdout",
     "output_type": "stream",
     "text": [
      "5 2 1\n"
     ]
    }
   ],
   "source": [
    "root_dir = \"classification_dataset_groupby_env\"\n",
    "envs = os.listdir(root_dir)\n",
    "envs.remove(\"other\")\n",
    "# chekc length of each env\n",
    "\n",
    "envs_shuffled = np.random.permutation(envs)\n",
    "envs_train, envs_val = train_test_split(envs_shuffled, test_size=0.3)\n",
    "envs_val, envs_test = train_test_split(envs_val, test_size=0.3)\n",
    "\n",
    "print(len(envs_train), len(envs_val), len(envs_test))"
   ]
  },
  {
   "cell_type": "code",
   "execution_count": 88,
   "metadata": {},
   "outputs": [],
   "source": [
    "select_n_from_env = 20\n",
    "env_train_pos = []\n",
    "env_val_pos = []\n",
    "env_test_pos = []\n",
    "env_train_neg = []\n",
    "env_val_neg = []\n",
    "env_test_neg = []\n",
    "\n",
    "for env in list(envs_train) + list(envs_val) + list(envs_test):\n",
    "    env_dir = os.path.join(root_dir, env)\n",
    "    pos = [os.path.join(env_dir, \"1\", img) for img in os.listdir(os.path.join(env_dir, \"1\"))]\n",
    "    neg = [os.path.join(env_dir, \"0\", img) for img in os.listdir(os.path.join(env_dir, \"0\"))]\n",
    "    \n",
    "    n_pos = select_n_from_env if len(pos) >= select_n_from_env else len(pos)\n",
    "    n_neg = select_n_from_env if len(neg) >= select_n_from_env else len(neg)\n",
    "    \n",
    "    \n",
    "    \n",
    "    selected_pos = np.random.choice(pos, n_pos, replace=False).tolist()\n",
    "    selected_neg = np.random.choice(neg, n_neg, replace=False)\n",
    "    \n",
    "    if env in envs_train:\n",
    "        env_train_pos.extend(selected_pos)\n",
    "        env_train_neg.extend(selected_neg)\n",
    "    elif env in envs_val:\n",
    "        env_val_pos.extend(selected_pos)\n",
    "        env_val_neg.extend(selected_neg)\n",
    "    elif env in envs_test:\n",
    "        env_test_pos.extend(selected_pos)\n",
    "        env_test_neg.extend(selected_neg)\n"
   ]
  },
  {
   "cell_type": "code",
   "execution_count": 89,
   "metadata": {},
   "outputs": [],
   "source": [
    "other_images = os.listdir(os.path.join(root_dir, \"other\"))\n",
    "other_images_pos = os.listdir(os.path.join(root_dir, \"other\", \"1\"))\n",
    "other_images_neg = os.listdir(os.path.join(root_dir, \"other\", \"0\"))"
   ]
  },
  {
   "cell_type": "code",
   "execution_count": 91,
   "metadata": {},
   "outputs": [],
   "source": [
    "other_images_pos = [os.path.join(root_dir, \"other\", \"1\", img) for img in other_images_pos]\n",
    "other_images_neg = [os.path.join(root_dir, \"other\", \"0\", img) for img in other_images_neg]\n",
    "\n",
    "other_train_pos, other_val_pos = train_test_split(other_images_pos, test_size=0.3)\n",
    "other_val_pos, other_test_pos = train_test_split(other_val_pos, test_size=0.33)\n",
    "\n",
    "other_train_neg, other_val_neg = train_test_split(other_images_neg, test_size=0.3)\n",
    "other_val_neg, other_test_neg = train_test_split(other_val_neg, test_size=0.33)\n",
    "\n",
    "all_train_pos = env_train_pos + other_train_pos\n",
    "all_val_pos = env_val_pos + other_val_pos\n",
    "all_test_pos = env_test_pos + other_test_pos\n",
    "\n",
    "all_train_neg = env_train_neg + other_train_neg\n",
    "all_val_neg = env_val_neg + other_val_neg\n",
    "all_test_neg = env_test_neg + other_test_neg"
   ]
  },
  {
   "cell_type": "code",
   "execution_count": 93,
   "metadata": {},
   "outputs": [
    {
     "name": "stdout",
     "output_type": "stream",
     "text": [
      "145 57 15\n",
      "770 212 116\n"
     ]
    }
   ],
   "source": [
    "print(len(all_train_pos), len(all_val_pos), len(all_test_pos))\n",
    "print(len(all_train_neg), len(all_val_neg), len(all_test_neg))"
   ]
  },
  {
   "cell_type": "code",
   "execution_count": 94,
   "metadata": {},
   "outputs": [
    {
     "name": "stdout",
     "output_type": "stream",
     "text": [
      "385 106 58\n"
     ]
    }
   ],
   "source": [
    "keep_p = 0.5\n",
    "# apply keep_p to all negative images\n",
    "all_train_neg = np.random.choice(all_train_neg, int(len(all_train_neg) * keep_p), replace=False)\n",
    "all_val_neg = np.random.choice(all_val_neg, int(len(all_val_neg) * keep_p), replace=False)\n",
    "all_test_neg = np.random.choice(all_test_neg, int(len(all_test_neg) * keep_p), replace=False)\n",
    "\n",
    "print(len(all_train_neg), len(all_val_neg), len(all_test_neg))"
   ]
  },
  {
   "cell_type": "code",
   "execution_count": 95,
   "metadata": {},
   "outputs": [
    {
     "name": "stderr",
     "output_type": "stream",
     "text": [
      "100%|██████████| 145/145 [00:00<00:00, 2162.80it/s]\n",
      "100%|██████████| 57/57 [00:00<00:00, 2870.84it/s]\n",
      "100%|██████████| 15/15 [00:00<00:00, 1847.87it/s]\n",
      "100%|██████████| 385/385 [00:00<00:00, 2744.58it/s]\n",
      "100%|██████████| 106/106 [00:00<00:00, 2961.82it/s]\n",
      "100%|██████████| 58/58 [00:00<00:00, 2305.39it/s]\n"
     ]
    }
   ],
   "source": [
    "new_dataset_dir = \"classification_dataset_groupby_env_split\"\n",
    "os.makedirs(new_dataset_dir, exist_ok=True)\n",
    "os.makedirs(os.path.join(new_dataset_dir, \"train\"), exist_ok=True)\n",
    "os.makedirs(os.path.join(new_dataset_dir, \"val\"), exist_ok=True)\n",
    "os.makedirs(os.path.join(new_dataset_dir, \"test\"), exist_ok=True)\n",
    "\n",
    "os.makedirs(os.path.join(new_dataset_dir, \"train\", \"1\"), exist_ok=True)\n",
    "os.makedirs(os.path.join(new_dataset_dir, \"val\", \"1\"), exist_ok=True)\n",
    "os.makedirs(os.path.join(new_dataset_dir, \"test\", \"1\"), exist_ok=True)\n",
    "\n",
    "os.makedirs(os.path.join(new_dataset_dir, \"train\", \"0\"), exist_ok=True)\n",
    "os.makedirs(os.path.join(new_dataset_dir, \"val\", \"0\"), exist_ok=True)\n",
    "os.makedirs(os.path.join(new_dataset_dir, \"test\", \"0\"), exist_ok=True)\n",
    "\n",
    "for img in tqdm(all_train_pos):\n",
    "    shutil.copy(img, os.path.join(new_dataset_dir, \"train\", \"1\"))\n",
    "for img in tqdm(all_val_pos):\n",
    "    shutil.copy(img, os.path.join(new_dataset_dir, \"val\", \"1\", os.path.basename(img)))\n",
    "for img in tqdm(all_test_pos):\n",
    "    shutil.copy(img, os.path.join(new_dataset_dir, \"test\", \"1\", os.path.basename(img)))\n",
    "    \n",
    "for img in tqdm(all_train_neg):\n",
    "    shutil.copy(img, os.path.join(new_dataset_dir, \"train\", \"0\", os.path.basename(img)))\n",
    "for img in tqdm(all_val_neg):\n",
    "    shutil.copy(img, os.path.join(new_dataset_dir, \"val\", \"0\", os.path.basename(img)))\n",
    "for img in tqdm(all_test_neg):\n",
    "    shutil.copy(img, os.path.join(new_dataset_dir, \"test\", \"0\", os.path.basename(img)))\n",
    "    \n",
    "    \n",
    "    \n",
    "    \n",
    "    "
   ]
  },
  {
   "cell_type": "code",
   "execution_count": 84,
   "metadata": {},
   "outputs": [
    {
     "data": {
      "text/plain": [
       "'detection_dataset_groupby_env/other/1/classification_dataset_groupby_env/other/1/classification_dataset_groupby_env/other/1/TUHMXNRF2TNJ_jpg.rf.614b987a47ab2f02965abb542d0487b6.jpg'"
      ]
     },
     "execution_count": 84,
     "metadata": {},
     "output_type": "execute_result"
    }
   ],
   "source": [
    "img"
   ]
  },
  {
   "cell_type": "code",
   "execution_count": 85,
   "metadata": {},
   "outputs": [
    {
     "data": {
      "text/plain": [
       "['classification_dataset_groupby_env/mima/1/Screenshot-2023-07-24-at-2-15-38-PM-2-_png.rf.7175f96f89261f0fe6d2945b89752d88.jpg',\n",
       " 'classification_dataset_groupby_env/mima/1/Screenshot-2023-07-24-at-2-14-42-PM-2-_png.rf.8a0233b282122a3a6f95aadeff842717.jpg',\n",
       " 'classification_dataset_groupby_env/mima/1/Screenshot-2023-07-24-at-12-51-36-PM-2-_png.rf.aeeeac7eb932aceef7865fc6c00e0b49.jpg',\n",
       " 'classification_dataset_groupby_env/mima/1/Screenshot-2023-07-01-at-1-30-43-AM-2-_png.rf.0ff2d07edfe39028b6cb2e43709d1e57.jpg',\n",
       " 'classification_dataset_groupby_env/mima/1/Screenshot-2023-07-02-at-4-19-39-PM-2-_png.rf.788a37870dd9d6cd1652dda9bd48afda.jpg',\n",
       " 'classification_dataset_groupby_env/mima/1/Screenshot-2023-07-24-at-2-14-22-PM-2-_png.rf.e3018d16be5c3c41486635edf3ebae5b.jpg',\n",
       " 'classification_dataset_groupby_env/mima/1/Screenshot-2023-07-24-at-12-49-44-PM-2-_png.rf.abefe62afad54fb8be3231f8ecd0acc8.jpg',\n",
       " 'classification_dataset_groupby_env/mima/1/Screenshot-2023-07-02-at-4-20-35-PM-2-_png.rf.e8564d5ffc556150df7f69e17635f31b.jpg',\n",
       " 'classification_dataset_groupby_env/mima/1/Screenshot-2023-07-24-at-12-52-12-PM-1-2-_png.rf.1f3e75836dfe06b0f5f42c68603e7317.jpg',\n",
       " 'classification_dataset_groupby_env/mima/1/Screenshot-2023-07-02-at-4-16-59-PM-2-_png.rf.f4da41ee9804b5652aaf77096b425f43.jpg',\n",
       " 'classification_dataset_groupby_env/mima/1/Screenshot-2023-07-02-at-3-48-32-PM-2-_png.rf.c5e549d2ea13d59bf391d891855ee209.jpg',\n",
       " 'classification_dataset_groupby_env/mima/1/Screenshot-2023-07-02-at-4-19-07-PM-2-_png.rf.04eef23519b9456755393a45dcfa1ff9.jpg',\n",
       " 'classification_dataset_groupby_env/mima/1/Screenshot-2023-07-01-at-1-01-29-AM-2-_png.rf.1326252a4f8142f93cc555cdad16378a.jpg',\n",
       " 'classification_dataset_groupby_env/mima/1/Screenshot-2023-07-24-at-2-15-09-PM-2-_png.rf.3c6a5a48f133fc502cc4b58f1c47ee83.jpg',\n",
       " 'classification_dataset_groupby_env/mima/1/Screenshot-2023-07-24-at-2-14-39-PM-2-_png.rf.87febe6ff6cea6a6eb34d87c56cb490d.jpg',\n",
       " 'classification_dataset_groupby_env/mima/1/Screenshot-2023-07-24-at-12-52-09-PM-1-2-_png.rf.2593d31fb990cd53ba23222c2c504b57.jpg',\n",
       " 'classification_dataset_groupby_env/mima/1/Screenshot-2023-07-02-at-3-48-35-PM-2-_png.rf.5a4a2cc9747bde182d4f15b344a82313.jpg',\n",
       " 'classification_dataset_groupby_env/mima/1/Screenshot-2023-07-02-at-4-20-35-PM-1-2-_png.rf.f52431ba60e6f6dd0bdb009df7619571.jpg',\n",
       " 'classification_dataset_groupby_env/mima/1/Screenshot-2023-07-01-at-1-28-34-AM-2-_png.rf.a4b0669a465903a6afc8f93ff2390a71.jpg',\n",
       " 'classification_dataset_groupby_env/mima/1/Screenshot-2023-07-02-at-4-20-59-PM-2-_png.rf.675763541a0bfd9efb569ced7fc9279f.jpg',\n",
       " 'classification_dataset_groupby_env/korean_outdoor/1/39_jpg.rf.74c41515838dfc941b25044edacead0d.jpg',\n",
       " 'classification_dataset_groupby_env/korean_outdoor/1/25_jpg.rf.e583519e5518a596c521a4bee678da68.jpg',\n",
       " 'classification_dataset_groupby_env/korean_outdoor/1/2-2_1_483_jpg.rf.b2c5ee91de2c8c2eb04d0a7caeb55aa3.jpg',\n",
       " 'classification_dataset_groupby_env/korean_outdoor/1/35_jpg.rf.cc797b1f3c54f9fe5b14349896933b09.jpg',\n",
       " 'classification_dataset_groupby_env/korean_outdoor/1/16_jpg.rf.845051a0511988fe6ed8a7c70047a977.jpg',\n",
       " 'classification_dataset_groupby_env/korean_outdoor/1/91_jpg.rf.f8143ea230c3ad30b3461442cc018984.jpg',\n",
       " 'classification_dataset_groupby_env/korean_outdoor/1/54_jpg.rf.6fd1ae1130ebb0069fa740d2b0015267.jpg',\n",
       " 'classification_dataset_groupby_env/korean_outdoor/1/2-2_1_246_jpg.rf.0a1fed54787c5d005bf0c0c0a7f3e73e.jpg',\n",
       " 'classification_dataset_groupby_env/korean_outdoor/1/66_jpg.rf.45aa3aeba9c5dffcf3c8513895a3f7a8.jpg',\n",
       " 'classification_dataset_groupby_env/korean_outdoor/1/84_jpg.rf.1ae7187edff9734263d8a29e753d299d.jpg',\n",
       " 'classification_dataset_groupby_env/korean_outdoor/1/39_jpg.rf.6b31e37cdc276550a982c2b708b3e946.jpg',\n",
       " 'classification_dataset_groupby_env/korean_outdoor/1/69_jpg.rf.d3c8583225961dc8a9e75969fd286540.jpg',\n",
       " 'classification_dataset_groupby_env/korean_outdoor/1/42_jpg.rf.6c5be86373cb48f2173647ad2281dfed.jpg',\n",
       " 'classification_dataset_groupby_env/korean_outdoor/1/21_jpg.rf.60748451e82f1e545ee56dad9da085a4.jpg',\n",
       " 'classification_dataset_groupby_env/korean_outdoor/1/84_jpg.rf.1c820729d3fac0981df08432b7a26ac7.jpg',\n",
       " 'classification_dataset_groupby_env/korean_outdoor/1/66_jpg.rf.c84a2f60b56287011ad3139198be68b2.jpg',\n",
       " 'classification_dataset_groupby_env/korean_outdoor/1/71_jpg.rf.b761c292980dd0a3f0227ffd140c8b13.jpg',\n",
       " 'classification_dataset_groupby_env/korean_outdoor/1/11_jpg.rf.c28bec69c5a5afbe78a9e2b51890f567.jpg',\n",
       " 'classification_dataset_groupby_env/korean_outdoor/1/2-2_1_483_jpg.rf.1d09836ffc132fafd4d6306cc9e47704.jpg',\n",
       " 'classification_dataset_groupby_env/korean_outdoor/1/11_jpg.rf.52ca4e13fa7a4ed24c2ae1476713ff4f.jpg',\n",
       " 'detection_dataset_groupby_env/other/1/classification_dataset_groupby_env/other/1/classification_dataset_groupby_env/other/1/TUHMXNRF2TNJ_jpg.rf.614b987a47ab2f02965abb542d0487b6.jpg',\n",
       " 'detection_dataset_groupby_env/other/1/classification_dataset_groupby_env/other/1/classification_dataset_groupby_env/other/1/GX010006-frame-at-16m4s_jpg.rf.8866f590f15e737045f21818ac6c2c69.jpg',\n",
       " 'detection_dataset_groupby_env/other/1/classification_dataset_groupby_env/other/1/classification_dataset_groupby_env/other/1/AQMES6LP4UGT_jpg.rf.78207c6cb2bd3e65b3efe7200d9d1d5b.jpg',\n",
       " 'detection_dataset_groupby_env/other/1/classification_dataset_groupby_env/other/1/classification_dataset_groupby_env/other/1/75SB3KDP3ZUT_jpg.rf.1d0a577fb3cc575615c0cc85468e8ce4.jpg',\n",
       " 'detection_dataset_groupby_env/other/1/classification_dataset_groupby_env/other/1/classification_dataset_groupby_env/other/1/basketball00447_png_jpg.rf.2a56e87b2ccdd1a120f23abf45a6ddc7.jpg',\n",
       " 'detection_dataset_groupby_env/other/1/classification_dataset_groupby_env/other/1/classification_dataset_groupby_env/other/1/GGUI5I175IY3_jpg.rf.aae480d385c80998a19ccd36cde2d718.jpg',\n",
       " 'detection_dataset_groupby_env/other/1/classification_dataset_groupby_env/other/1/classification_dataset_groupby_env/other/1/GX010006-frame-at-11m22s_jpg.rf.56dc896c8436e3e3265e3d726a0228af.jpg',\n",
       " 'detection_dataset_groupby_env/other/1/classification_dataset_groupby_env/other/1/classification_dataset_groupby_env/other/1/I8IWTD3QVKTR_jpg.rf.379cd5d8c1c5eeb0ccbf66e0b5c3ecd6.jpg',\n",
       " 'detection_dataset_groupby_env/other/1/classification_dataset_groupby_env/other/1/classification_dataset_groupby_env/other/1/943_jpg.rf.e570ef2c8ab55e955184c56eab3f62d1.jpg',\n",
       " 'detection_dataset_groupby_env/other/1/classification_dataset_groupby_env/other/1/classification_dataset_groupby_env/other/1/basketball00893_png_jpg.rf.6fb42f00c17a6cfe127c66488ef4bb9a.jpg',\n",
       " 'detection_dataset_groupby_env/other/1/classification_dataset_groupby_env/other/1/classification_dataset_groupby_env/other/1/basketball00866_png_jpg.rf.ffd76ee46460a08158fd6906ee90ca7f.jpg',\n",
       " 'detection_dataset_groupby_env/other/1/classification_dataset_groupby_env/other/1/classification_dataset_groupby_env/other/1/MMWKFG74PHDV_jpg.rf.76c74c7e51246607a4c587d58f28c39e.jpg',\n",
       " 'detection_dataset_groupby_env/other/1/classification_dataset_groupby_env/other/1/classification_dataset_groupby_env/other/1/0RU7MHK47YEF_jpg.rf.fd30bf3e9186629445384e60ad989db8.jpg',\n",
       " 'detection_dataset_groupby_env/other/1/classification_dataset_groupby_env/other/1/classification_dataset_groupby_env/other/1/basketball01059_png_jpg.rf.4a57cae82af3419ccf5da59fa00fd301.jpg',\n",
       " 'detection_dataset_groupby_env/other/1/classification_dataset_groupby_env/other/1/classification_dataset_groupby_env/other/1/RTK8ZWVKHRUG_jpg.rf.e8d38a02074d635abe175b0b271cd542.jpg',\n",
       " 'detection_dataset_groupby_env/other/1/classification_dataset_groupby_env/other/1/classification_dataset_groupby_env/other/1/basketball00397_png_jpg.rf.26c27be422add06ecc5481180a57c4c5.jpg',\n",
       " 'detection_dataset_groupby_env/other/1/classification_dataset_groupby_env/other/1/classification_dataset_groupby_env/other/1/basketball01034_png_jpg.rf.0513bda1776544af9056c162245247ea.jpg',\n",
       " 'detection_dataset_groupby_env/other/1/classification_dataset_groupby_env/other/1/classification_dataset_groupby_env/other/1/1316_jpg.rf.f508ec859612a6cf2826fd6aec02028f.jpg',\n",
       " 'detection_dataset_groupby_env/other/1/classification_dataset_groupby_env/other/1/classification_dataset_groupby_env/other/1/AQMES6LP4UGT_jpg.rf.f49463631c0d0f08cefc5851c5163294.jpg',\n",
       " 'detection_dataset_groupby_env/other/1/classification_dataset_groupby_env/other/1/classification_dataset_groupby_env/other/1/GX010006-frame-at-17m57s_jpg.rf.8da7c9de24dce6924522a1e313a9c9df.jpg',\n",
       " 'detection_dataset_groupby_env/other/1/classification_dataset_groupby_env/other/1/classification_dataset_groupby_env/other/1/75SB3KDP3ZUT_jpg.rf.c8b86e96b23991e8ca6e81430902e89a.jpg',\n",
       " 'detection_dataset_groupby_env/other/1/classification_dataset_groupby_env/other/1/classification_dataset_groupby_env/other/1/basketball_756_jpg.rf.f22a9c5a72fc2fadcf8e09515fef87de.jpg',\n",
       " 'detection_dataset_groupby_env/other/1/classification_dataset_groupby_env/other/1/classification_dataset_groupby_env/other/1/basketball00360_png_jpg.rf.2cee555aab524666f15d89ab368d92ba.jpg',\n",
       " 'detection_dataset_groupby_env/other/1/classification_dataset_groupby_env/other/1/classification_dataset_groupby_env/other/1/basketball00209_png_jpg.rf.5e20f01dc1768d605e8b9c742a54e4ed.jpg',\n",
       " 'detection_dataset_groupby_env/other/1/classification_dataset_groupby_env/other/1/classification_dataset_groupby_env/other/1/1657172346072_jpg.rf.f0631572c5a9a9f43bea082ad5fcd77b.jpg',\n",
       " 'detection_dataset_groupby_env/other/1/classification_dataset_groupby_env/other/1/classification_dataset_groupby_env/other/1/GX010006-frame-at-1m20s_jpg.rf.3d624f33125945015112b86794fc21a7.jpg',\n",
       " 'detection_dataset_groupby_env/other/1/classification_dataset_groupby_env/other/1/classification_dataset_groupby_env/other/1/basketball01513_png_jpg.rf.456d904bfe8fd1483d1ebf5862017bf6.jpg',\n",
       " 'detection_dataset_groupby_env/other/1/classification_dataset_groupby_env/other/1/classification_dataset_groupby_env/other/1/10566-1-_jpg.rf.de780e34ba16a030ee6fa92095ccedd6.jpg',\n",
       " 'detection_dataset_groupby_env/other/1/classification_dataset_groupby_env/other/1/classification_dataset_groupby_env/other/1/844_jpg.rf.bade197562e4ade9fa562dcbb0706767.jpg',\n",
       " 'detection_dataset_groupby_env/other/1/classification_dataset_groupby_env/other/1/classification_dataset_groupby_env/other/1/914_jpg.rf.3b4404588686369682afb31b747594b0.jpg',\n",
       " 'detection_dataset_groupby_env/other/1/classification_dataset_groupby_env/other/1/classification_dataset_groupby_env/other/1/AF15RP63YEWR_jpg.rf.114e723ecabc240d171d52cea2cee69d.jpg',\n",
       " 'detection_dataset_groupby_env/other/1/classification_dataset_groupby_env/other/1/classification_dataset_groupby_env/other/1/rim279_jpg.rf.2f3d6bf5895bb921fef463fd32532311.jpg',\n",
       " 'detection_dataset_groupby_env/other/1/classification_dataset_groupby_env/other/1/classification_dataset_groupby_env/other/1/basketball00604_png_jpg.rf.658092282cfa18ac5beb5333d98e29c7.jpg',\n",
       " 'detection_dataset_groupby_env/other/1/classification_dataset_groupby_env/other/1/classification_dataset_groupby_env/other/1/veer-148574647_jpg.rf.faaaf64e371948fdacdb96dd18a73fcb.jpg',\n",
       " 'detection_dataset_groupby_env/other/1/classification_dataset_groupby_env/other/1/classification_dataset_groupby_env/other/1/I8EBT0YD8YWX_jpg.rf.de535b095e9d09e3e26ab9a23eae3923.jpg',\n",
       " 'detection_dataset_groupby_env/other/1/classification_dataset_groupby_env/other/1/classification_dataset_groupby_env/other/1/ZT2O052P2TA3_jpg.rf.87e6a7431b3e5fc95d647e5c65f0027b.jpg',\n",
       " 'detection_dataset_groupby_env/other/1/classification_dataset_groupby_env/other/1/classification_dataset_groupby_env/other/1/848_jpg.rf.f7b711e0e17417d10c9f3da8e0b19093.jpg',\n",
       " 'detection_dataset_groupby_env/other/1/classification_dataset_groupby_env/other/1/classification_dataset_groupby_env/other/1/basketball03391_png_jpg.rf.f011ba9c0c3dcbcadc53a0f5a09885c6.jpg',\n",
       " 'detection_dataset_groupby_env/other/1/classification_dataset_groupby_env/other/1/classification_dataset_groupby_env/other/1/981_jpg.rf.a52f97aace982dd427788598287560f9.jpg',\n",
       " 'detection_dataset_groupby_env/other/1/classification_dataset_groupby_env/other/1/classification_dataset_groupby_env/other/1/60UENJTH3PQA_jpg.rf.e71375c480b0a1be171271858f4ba694.jpg',\n",
       " 'detection_dataset_groupby_env/other/1/classification_dataset_groupby_env/other/1/classification_dataset_groupby_env/other/1/IYSVHGIRYASK_jpg.rf.dcaa9af847750c343de23e224d292865.jpg',\n",
       " 'detection_dataset_groupby_env/other/1/classification_dataset_groupby_env/other/1/classification_dataset_groupby_env/other/1/rim49_jpg.rf.8778f62f349114a85a0729c03f32e4df.jpg',\n",
       " 'detection_dataset_groupby_env/other/1/classification_dataset_groupby_env/other/1/classification_dataset_groupby_env/other/1/795_jpg.rf.2326301b08622240329ce24087a6be71.jpg',\n",
       " 'detection_dataset_groupby_env/other/1/classification_dataset_groupby_env/other/1/classification_dataset_groupby_env/other/1/GX010006-frame-at-11m5s_jpg.rf.51c5fc5986de9c0653c61ee2251f8eb5.jpg',\n",
       " 'detection_dataset_groupby_env/other/1/classification_dataset_groupby_env/other/1/classification_dataset_groupby_env/other/1/YNO593EKE2KD_jpg.rf.1e09f9e51c7d2abb5e5fb1156db08d34.jpg',\n",
       " 'detection_dataset_groupby_env/other/1/classification_dataset_groupby_env/other/1/classification_dataset_groupby_env/other/1/1169_jpg.rf.0033398520913f1b2fabf913635e4842.jpg',\n",
       " 'detection_dataset_groupby_env/other/1/classification_dataset_groupby_env/other/1/classification_dataset_groupby_env/other/1/739_jpg.rf.c4ab3281b7004e6d1736362d772d4135.jpg',\n",
       " 'detection_dataset_groupby_env/other/1/classification_dataset_groupby_env/other/1/classification_dataset_groupby_env/other/1/GX010006-frame-at-1m33s_jpg.rf.52bdf9db5f6c539075f89601daae5b6c.jpg',\n",
       " 'detection_dataset_groupby_env/other/1/classification_dataset_groupby_env/other/1/classification_dataset_groupby_env/other/1/basketball00422_png_jpg.rf.3d87064389dd9ae8dc3e770cc1f8974c.jpg',\n",
       " 'detection_dataset_groupby_env/other/1/classification_dataset_groupby_env/other/1/classification_dataset_groupby_env/other/1/im-5-249_jpg.rf.10a45b8a44e605b0a8ea54edf5b140d1.jpg',\n",
       " 'detection_dataset_groupby_env/other/1/classification_dataset_groupby_env/other/1/classification_dataset_groupby_env/other/1/C2YSH40762GK_jpg.rf.ab436ac6f446695b0af4fdf0863d1b92.jpg',\n",
       " 'detection_dataset_groupby_env/other/1/classification_dataset_groupby_env/other/1/classification_dataset_groupby_env/other/1/55R74T427SKM_jpg.rf.6b19ac2a3e60de758ce62f814f1d2021.jpg',\n",
       " 'detection_dataset_groupby_env/other/1/classification_dataset_groupby_env/other/1/classification_dataset_groupby_env/other/1/1657173111160_jpg.rf.5287efd1d8fb26d9bb69f5fb7d90720f.jpg',\n",
       " 'detection_dataset_groupby_env/other/1/classification_dataset_groupby_env/other/1/classification_dataset_groupby_env/other/1/YNO593EKE2KD_jpg.rf.556179592c49c73f955de59a677a4356.jpg',\n",
       " 'detection_dataset_groupby_env/other/1/classification_dataset_groupby_env/other/1/classification_dataset_groupby_env/other/1/basketball00181_png_jpg.rf.2702e94aa3c34b8ce8e0e11bf8a0be07.jpg',\n",
       " 'detection_dataset_groupby_env/other/1/classification_dataset_groupby_env/other/1/classification_dataset_groupby_env/other/1/basketball_62_jpg.rf.39277e62f99f37f8d5eca16fd3ef650a.jpg',\n",
       " 'detection_dataset_groupby_env/other/1/classification_dataset_groupby_env/other/1/classification_dataset_groupby_env/other/1/GX010006-frame-at-1m8s_jpg.rf.0441e2a1bdc20035c63e988b6ae675bc.jpg',\n",
       " 'detection_dataset_groupby_env/other/1/classification_dataset_groupby_env/other/1/classification_dataset_groupby_env/other/1/1234_jpg.rf.6f413b7a56f0a800fb4d6bbe230aea8e.jpg',\n",
       " 'detection_dataset_groupby_env/other/1/classification_dataset_groupby_env/other/1/classification_dataset_groupby_env/other/1/554_jpg.rf.056b2fa44f6fc57468f3a4537c022983.jpg',\n",
       " 'detection_dataset_groupby_env/other/1/classification_dataset_groupby_env/other/1/classification_dataset_groupby_env/other/1/8L8Y57MOQ0GP_jpg.rf.50375d23592e56eda644fc7b60e17eb5.jpg',\n",
       " 'detection_dataset_groupby_env/other/1/classification_dataset_groupby_env/other/1/classification_dataset_groupby_env/other/1/basketball00065_png_jpg.rf.39cd14d78b21b7571a779c5a9b1e10bd.jpg',\n",
       " 'detection_dataset_groupby_env/other/1/classification_dataset_groupby_env/other/1/classification_dataset_groupby_env/other/1/UD016V5S75PE_jpg.rf.116098ce1bb37ad0377b776978052542.jpg',\n",
       " 'detection_dataset_groupby_env/other/1/classification_dataset_groupby_env/other/1/classification_dataset_groupby_env/other/1/basketball01844_png_jpg.rf.4e5f5a7ce32c17afa5a976f717c44fd3.jpg',\n",
       " 'detection_dataset_groupby_env/other/1/classification_dataset_groupby_env/other/1/classification_dataset_groupby_env/other/1/FIRST-PERSON-POV-BASKETBALL-frame-at-0m22s_jpg.rf.0912721bf3a8f634bc6690e16680833d.jpg',\n",
       " 'detection_dataset_groupby_env/other/1/classification_dataset_groupby_env/other/1/classification_dataset_groupby_env/other/1/1040_jpg.rf.762ab6bd4d2907d91cbac3abd96730bd.jpg',\n",
       " 'detection_dataset_groupby_env/other/1/classification_dataset_groupby_env/other/1/classification_dataset_groupby_env/other/1/GX010006-frame-at-17m50s_jpg.rf.b6c64f55543ec92ec5b238bbb5882ed1.jpg',\n",
       " 'detection_dataset_groupby_env/other/1/classification_dataset_groupby_env/other/1/classification_dataset_groupby_env/other/1/basketball00491_png_jpg.rf.d850ac0a2fb34207a72cb3e9cff67c30.jpg',\n",
       " 'detection_dataset_groupby_env/other/1/classification_dataset_groupby_env/other/1/classification_dataset_groupby_env/other/1/basketball00744_png_jpg.rf.8bd595d10934df484b32f8cc14860ea5.jpg',\n",
       " 'detection_dataset_groupby_env/other/1/classification_dataset_groupby_env/other/1/classification_dataset_groupby_env/other/1/73X1ATVTBT43_jpg.rf.ffcf6ca971384707769e021ce4dee341.jpg',\n",
       " 'detection_dataset_groupby_env/other/1/classification_dataset_groupby_env/other/1/classification_dataset_groupby_env/other/1/EXCGMGZBBM8D_jpg.rf.c9517478cf665af6c81f00458baf73b5.jpg',\n",
       " 'detection_dataset_groupby_env/other/1/classification_dataset_groupby_env/other/1/classification_dataset_groupby_env/other/1/basketball00003_png_jpg.rf.a2e42199cf7622df0f86a9f50e36d8ad.jpg',\n",
       " 'detection_dataset_groupby_env/other/1/classification_dataset_groupby_env/other/1/classification_dataset_groupby_env/other/1/FIRST-PERSON-POV-BASKETBALL-frame-at-1m40s_jpg.rf.994c686a1f161afb8ae634b83a467676.jpg',\n",
       " 'detection_dataset_groupby_env/other/1/classification_dataset_groupby_env/other/1/classification_dataset_groupby_env/other/1/PAGLH4IC1SL7_jpg.rf.f8594043c42f23a9fce692ee9071a226.jpg',\n",
       " 'detection_dataset_groupby_env/other/1/classification_dataset_groupby_env/other/1/classification_dataset_groupby_env/other/1/8L8Y57MOQ0GP_jpg.rf.a562981892d5531c9b2371e579b0d41d.jpg',\n",
       " 'detection_dataset_groupby_env/other/1/classification_dataset_groupby_env/other/1/classification_dataset_groupby_env/other/1/FIRST-PERSON-POV-BASKETBALL-frame-at-0m39s_jpg.rf.9f07ac7ab377f3774d60cdde5d487485.jpg',\n",
       " 'detection_dataset_groupby_env/other/1/classification_dataset_groupby_env/other/1/classification_dataset_groupby_env/other/1/basketball00506_png_jpg.rf.891b3654da203a33706899c5255aa53b.jpg',\n",
       " 'detection_dataset_groupby_env/other/1/classification_dataset_groupby_env/other/1/classification_dataset_groupby_env/other/1/FIRST-PERSON-POV-BASKETBALL-frame-at-0m57s_jpg.rf.00fdb4e22f19c3897eff6427d4b6ff9b.jpg',\n",
       " 'detection_dataset_groupby_env/other/1/classification_dataset_groupby_env/other/1/classification_dataset_groupby_env/other/1/10213-1-_jpg.rf.c4dade07c1e7e5045cb1f3da48831648.jpg',\n",
       " 'detection_dataset_groupby_env/other/1/classification_dataset_groupby_env/other/1/classification_dataset_groupby_env/other/1/basketball00368_png_jpg.rf.1265ecb89dd414afef4a4299777e60ee.jpg',\n",
       " 'detection_dataset_groupby_env/other/1/classification_dataset_groupby_env/other/1/classification_dataset_groupby_env/other/1/OU7S257VLPP6_jpg.rf.6b96a7612b08fc987967488838b58b42.jpg',\n",
       " 'detection_dataset_groupby_env/other/1/classification_dataset_groupby_env/other/1/classification_dataset_groupby_env/other/1/939_jpg.rf.ec059951494c969bfac338ae6806ff38.jpg',\n",
       " 'detection_dataset_groupby_env/other/1/classification_dataset_groupby_env/other/1/classification_dataset_groupby_env/other/1/1UILQ1S4R4UK_jpg.rf.ad75aa38a54e648202f4bd1c5de01d86.jpg',\n",
       " 'detection_dataset_groupby_env/other/1/classification_dataset_groupby_env/other/1/classification_dataset_groupby_env/other/1/rim65_jpg.rf.2086db79660e0edc369f40b2de04d508.jpg',\n",
       " 'detection_dataset_groupby_env/other/1/classification_dataset_groupby_env/other/1/classification_dataset_groupby_env/other/1/rim92_jpg.rf.199d34e8377cfbd0829378b1a7d6faf0.jpg',\n",
       " 'detection_dataset_groupby_env/other/1/classification_dataset_groupby_env/other/1/classification_dataset_groupby_env/other/1/7E6V3PAHQR25_jpg.rf.2e8ffa39b4f93eab16eacb5184b93d15.jpg',\n",
       " 'detection_dataset_groupby_env/other/1/classification_dataset_groupby_env/other/1/classification_dataset_groupby_env/other/1/1067_jpg.rf.34412ea37358b6fc35d1ed8e1df6d97b.jpg',\n",
       " 'detection_dataset_groupby_env/other/1/classification_dataset_groupby_env/other/1/classification_dataset_groupby_env/other/1/1J7A8VESYHJW_jpg.rf.407d0c59f6c064bab36284f916857099.jpg',\n",
       " 'detection_dataset_groupby_env/other/1/classification_dataset_groupby_env/other/1/classification_dataset_groupby_env/other/1/10519-1-_png_jpg.rf.dfe35ac2705f5b60eb9b6200c6242be9.jpg',\n",
       " 'detection_dataset_groupby_env/other/1/classification_dataset_groupby_env/other/1/classification_dataset_groupby_env/other/1/basketball00709_png_jpg.rf.1bb4415823d2a8863ac20f54901135fa.jpg',\n",
       " 'detection_dataset_groupby_env/other/1/classification_dataset_groupby_env/other/1/classification_dataset_groupby_env/other/1/1UILQ1S4R4UK_jpg.rf.66f1913be0e3afaaab7a6a3d2a0f877f.jpg',\n",
       " 'detection_dataset_groupby_env/other/1/classification_dataset_groupby_env/other/1/classification_dataset_groupby_env/other/1/1143_jpg.rf.83436e31b781c47f0273c2346a597d06.jpg',\n",
       " 'detection_dataset_groupby_env/other/1/classification_dataset_groupby_env/other/1/classification_dataset_groupby_env/other/1/95UHHYGUIBQM_jpg.rf.b973e7852f1e69d57de1169d0d6f8875.jpg',\n",
       " 'detection_dataset_groupby_env/other/1/classification_dataset_groupby_env/other/1/classification_dataset_groupby_env/other/1/basketball00334_png_jpg.rf.d0f5dc923c72d88ea47bec8b82955ea3.jpg',\n",
       " 'detection_dataset_groupby_env/other/1/classification_dataset_groupby_env/other/1/classification_dataset_groupby_env/other/1/ZT2O052P2TA3_jpg.rf.39d757656a60787c90923024f8dd8185.jpg',\n",
       " 'detection_dataset_groupby_env/other/1/classification_dataset_groupby_env/other/1/classification_dataset_groupby_env/other/1/basketball00298_png_jpg.rf.65649d17739f82615c1d69c112a6259f.jpg',\n",
       " 'detection_dataset_groupby_env/other/1/classification_dataset_groupby_env/other/1/classification_dataset_groupby_env/other/1/basketball00754_png_jpg.rf.4793ffef2ea6a2ad8130067e7515400c.jpg',\n",
       " 'detection_dataset_groupby_env/other/1/classification_dataset_groupby_env/other/1/classification_dataset_groupby_env/other/1/basketball00472_png_jpg.rf.406e5dc8cbfcc880322f409f71847b11.jpg',\n",
       " 'detection_dataset_groupby_env/other/1/classification_dataset_groupby_env/other/1/classification_dataset_groupby_env/other/1/GX010006-frame-at-6m58s_jpg.rf.3ffaa3c722e4055c3361638d4cea4ce7.jpg',\n",
       " 'detection_dataset_groupby_env/other/1/classification_dataset_groupby_env/other/1/classification_dataset_groupby_env/other/1/basketball01092_png_jpg.rf.ba54f7767ec48e5e4513144407d8c052.jpg',\n",
       " 'detection_dataset_groupby_env/other/1/classification_dataset_groupby_env/other/1/classification_dataset_groupby_env/other/1/1221_jpg.rf.3c6193088612e42f23a742e01e346ea3.jpg',\n",
       " 'detection_dataset_groupby_env/other/1/classification_dataset_groupby_env/other/1/classification_dataset_groupby_env/other/1/10101-1-_jpg.rf.df661dfca5ce29a4fce07de44df9621d.jpg',\n",
       " 'detection_dataset_groupby_env/other/1/classification_dataset_groupby_env/other/1/classification_dataset_groupby_env/other/1/GX010006-frame-at-1m17s_jpg.rf.e7d1e593ba98abca403fed4517a4d11e.jpg',\n",
       " 'detection_dataset_groupby_env/other/1/classification_dataset_groupby_env/other/1/classification_dataset_groupby_env/other/1/GX010006-frame-at-7m17s_jpg.rf.107123ec73c3edb83bbfcaf29f8a19f1.jpg',\n",
       " 'detection_dataset_groupby_env/other/1/classification_dataset_groupby_env/other/1/classification_dataset_groupby_env/other/1/basketball_531_jpg.rf.8388e77be3f632e51180660d701cbef2.jpg',\n",
       " 'detection_dataset_groupby_env/other/1/classification_dataset_groupby_env/other/1/classification_dataset_groupby_env/other/1/AF15RP63YEWR_jpg.rf.34f8d256599c78539fea98c5b17bcc91.jpg']"
      ]
     },
     "execution_count": 85,
     "metadata": {},
     "output_type": "execute_result"
    }
   ],
   "source": [
    "all_train_pos"
   ]
  }
 ],
 "metadata": {
  "kernelspec": {
   "display_name": "yolov8",
   "language": "python",
   "name": "yolov8"
  },
  "language_info": {
   "codemirror_mode": {
    "name": "ipython",
    "version": 3
   },
   "file_extension": ".py",
   "mimetype": "text/x-python",
   "name": "python",
   "nbconvert_exporter": "python",
   "pygments_lexer": "ipython3",
   "version": "3.11.4"
  }
 },
 "nbformat": 4,
 "nbformat_minor": 2
}
