{
 "cells": [
  {
   "cell_type": "code",
   "execution_count": 1,
   "metadata": {},
   "outputs": [
    {
     "name": "stdout",
     "output_type": "stream",
     "text": [
      "Number of GPUs available: 1\n",
      "Not enough GPUs available to run the example\n",
      "Running intensive computation on a single GPU...\n"
     ]
    }
   ],
   "source": [
    "import torch\n",
    "import threading\n",
    "import time\n",
    "\n",
    "# Function for intensive computation on a specific GPU\n",
    "def intensive_computation_on_gpu(gpu_id, tensor_size=(10000, 10000)):\n",
    "    device = torch.device(f\"cuda:{gpu_id}\")\n",
    "    tensor1 = torch.rand(tensor_size, device=device)\n",
    "    tensor2 = torch.rand(tensor_size, device=device)\n",
    "\n",
    "    while True:\n",
    "        torch.matmul(tensor1, tensor2)\n",
    "        time.sleep(0.01)\n",
    "\n",
    "if __name__ == \"__main__\":\n",
    "    # Check the number of GPUs available\n",
    "    num_gpus = torch.cuda.device_count()\n",
    "    print(f\"Number of GPUs available: {num_gpus}\")\n",
    "\n",
    "    if num_gpus >= 2:\n",
    "        print(\"Starting intensive computation on 2 GPUs...\")\n",
    "        \n",
    "        # Create threads for each GPU\n",
    "        thread1 = threading.Thread(target=intensive_computation_on_gpu, args=(0,))\n",
    "        thread2 = threading.Thread(target=intensive_computation_on_gpu, args=(1,))\n",
    "\n",
    "        # Start the threads\n",
    "        thread1.start()\n",
    "        thread2.start()\n",
    "\n",
    "        # Optionally, join the threads if you want to wait for them to finish\n",
    "        thread1.join()\n",
    "        thread2.join()\n",
    "    else:\n",
    "        print(\"Not enough GPUs available to run the example\")\n",
    "        print(\"Running intensive computation on a single GPU...\")\n",
    "        intensive_computation_on_gpu(0)\n"
   ]
  },
  {
   "cell_type": "code",
   "execution_count": null,
   "metadata": {},
   "outputs": [],
   "source": []
  }
 ],
 "metadata": {
  "kernelspec": {
   "display_name": "vision",
   "language": "python",
   "name": "vision"
  },
  "language_info": {
   "codemirror_mode": {
    "name": "ipython",
    "version": 3
   },
   "file_extension": ".py",
   "mimetype": "text/x-python",
   "name": "python",
   "nbconvert_exporter": "python",
   "pygments_lexer": "ipython3",
   "version": "3.10.13"
  }
 },
 "nbformat": 4,
 "nbformat_minor": 2
}
