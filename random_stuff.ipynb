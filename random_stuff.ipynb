{
 "cells": [
  {
   "cell_type": "code",
   "execution_count": 1,
   "metadata": {},
   "outputs": [],
   "source": [
    "from get_yt_vids import *"
   ]
  },
  {
   "cell_type": "code",
   "execution_count": 3,
   "metadata": {},
   "outputs": [
    {
     "name": "stdout",
     "output_type": "stream",
     "text": [
      "downloading video\n",
      "[youtube] Extracting URL: https://www.youtube.com/watch?v=8rstAD27lGs&ab_channel=AreTheyHooping\n",
      "[youtube] 8rstAD27lGs: Downloading webpage\n",
      "[youtube] 8rstAD27lGs: Downloading ios player API JSON\n",
      "[youtube] 8rstAD27lGs: Downloading android player API JSON\n",
      "[youtube] 8rstAD27lGs: Downloading m3u8 information\n",
      "[youtube] 8rstAD27lGs: Downloading MPD manifest\n",
      "[info] 8rstAD27lGs: Downloading 1 format(s): 302\n",
      "[dashsegments] Total fragments: 154\n",
      "[download] Destination: ./videos_full/8rstAD27lGs.webm\n",
      "[download] 100% of  230.24MiB in 00:04:15 at 923.61KiB/s                   \n",
      "[VideoConvertor] Converting video from webm to mp4; Destination: ./videos_full/8rstAD27lGs.mp4\n",
      "Deleting original file ./videos_full/8rstAD27lGs.webm (pass -k to keep)\n"
     ]
    }
   ],
   "source": [
    "urls = \"\"\"https://www.youtube.com/watch?v=8rstAD27lGs&ab_channel=AreTheyHooping\"\"\"\n",
    "\n",
    "for url in urls.split(\"\\n\"):\n",
    "    process_video(\n",
    "        video_url = url,\n",
    "        video_local_path = None,\n",
    "        save_full_video = False,\n",
    "        resolution = 720,\n",
    "        frames_dir = \"/Users/oscarwan/court-vision/training_data/yt_frames\",\n",
    "    )"
   ]
  },
  {
   "cell_type": "code",
   "execution_count": null,
   "metadata": {},
   "outputs": [],
   "source": []
  }
 ],
 "metadata": {
  "kernelspec": {
   "display_name": "native",
   "language": "python",
   "name": "python3"
  },
  "language_info": {
   "codemirror_mode": {
    "name": "ipython",
    "version": 3
   },
   "file_extension": ".py",
   "mimetype": "text/x-python",
   "name": "python",
   "nbconvert_exporter": "python",
   "pygments_lexer": "ipython3",
   "version": "3.1.0"
  }
 },
 "nbformat": 4,
 "nbformat_minor": 2
}
