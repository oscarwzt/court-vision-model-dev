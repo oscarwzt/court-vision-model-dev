{
 "cells": [
  {
   "cell_type": "code",
   "execution_count": 1,
   "metadata": {},
   "outputs": [],
   "source": [
    "from ultralytics import YOLO\n",
    "import cv2\n",
    "import numpy as np\n",
    "from PIL import Image\n",
    "import os\n",
    "from video_utils import *\n",
    "from model import MODEL\n",
    "from tqdm import tqdm\n",
    "from PIL import Image"
   ]
  },
  {
   "cell_type": "code",
   "execution_count": 3,
   "metadata": {},
   "outputs": [],
   "source": [
    "#model = YOLO(\"yolov8l.pt\")\n",
    "# model = MODEL(\"yolov8l.pt\", device = 0)\n",
    "dataset_root_dir  = \"basketballAndHoop-2/train\"\n",
    "reID_dataset_root_dir = \"reID_dataset\"\n",
    "train_images = os.listdir(dataset_root_dir + \"/images\")\n",
    "\n",
    "# for img_path in train_images:\n",
    "#     print(img_path)\n",
    "#     short_name = img_path.split(\"_jpg.rf.\")[0] \n",
    "#     full_img_path = dataset_root_dir + \"/images/\" + img_path\n",
    "#     full_label_path = dataset_root_dir + \"/labels/\" + img_path.replace(\".jpg\", \".txt\")\n",
    "    \n",
    "#     renamed_img_path = dataset_root_dir + \"/images/\" + short_name + \".jpg\"\n",
    "#     renamed_label_path = dataset_root_dir + \"/labels/\" + short_name + \".txt\"\n",
    "    \n",
    "#     os.rename(full_img_path, renamed_img_path)\n",
    "#     os.rename(full_label_path, renamed_label_path)\n",
    "\n",
    "\n",
    "all_environments = list({x[:-7] for x in train_images})\n",
    "        \n",
    "# select randomly a subset of environments\n",
    "n_samples = 30\n",
    "selected_envs = np.random.choice(all_environments, n_samples, replace=False)\n",
    "selected_images = {env: [img for img in train_images if env in img] for env in selected_envs}\n",
    "\n",
    "\n",
    "\n",
    "for env in selected_envs:\n",
    "    this_dir = reID_dataset_root_dir + \"/\" + env\n",
    "    os.makedirs(this_dir, exist_ok=True)\n",
    "    images = selected_images[env]\n",
    "    labels = [img.replace(\".jpg\", \".txt\") for img in images]\n",
    "    for img, label in zip(images, labels):\n",
    "        img = cv2.imread(dataset_root_dir + \"/images/\" + img)\n",
    "        \n",
    "        person_count = 0\n",
    "        with open(dataset_root_dir + \"/labels/\" + label, \"r\") as f:\n",
    "            lines = f.readlines()\n",
    "            for line in lines:\n",
    "                box = list(map(float, line.split()))\n",
    "                \n",
    "                if box and box[0] == 2:\n",
    "                    x, y, w, h = box[1:]\n",
    "                    x1, y1 = int((x - w/2) * img.shape[1]), int((y - h/2) * img.shape[0])\n",
    "                    x2, y2 = int((x + w/2) * img.shape[1]), int((y + h/2) * img.shape[0])\n",
    "                \n",
    "                    cropped_person = img[y1:y2, x1:x2]\n",
    "                    cropped_person_img_path = this_dir + \"/\" + str(person_count) + \".jpg\"\n",
    "                    cv2.imwrite(cropped_person_img_path, cropped_person)\n",
    "                    \n",
    "                    person_count += 1\n",
    "                \n",
    "                "
   ]
  },
  {
   "cell_type": "code",
   "execution_count": 52,
   "metadata": {},
   "outputs": [
    {
     "data": {
      "text/plain": [
       "0"
      ]
     },
     "execution_count": 52,
     "metadata": {},
     "output_type": "execute_result"
    }
   ],
   "source": [
    "person_count"
   ]
  },
  {
   "cell_type": "code",
   "execution_count": 20,
   "metadata": {},
   "outputs": [],
   "source": [
    "im = cv2.imread(dataset_root_dir + \"/images/\" + selected_images[0])"
   ]
  },
  {
   "cell_type": "code",
   "execution_count": null,
   "metadata": {},
   "outputs": [],
   "source": []
  }
 ],
 "metadata": {
  "kernelspec": {
   "display_name": "Python 3",
   "language": "python",
   "name": "python3"
  },
  "language_info": {
   "codemirror_mode": {
    "name": "ipython",
    "version": 3
   },
   "file_extension": ".py",
   "mimetype": "text/x-python",
   "name": "python",
   "nbconvert_exporter": "python",
   "pygments_lexer": "ipython3",
   "version": "3.10.14"
  }
 },
 "nbformat": 4,
 "nbformat_minor": 2
}
